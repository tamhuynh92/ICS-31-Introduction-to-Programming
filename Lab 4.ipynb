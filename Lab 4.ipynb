{
 "cells": [
  {
   "cell_type": "markdown",
   "metadata": {
    "collapsed": true
   },
   "source": [
    "*** (1) Implement the function test_number that takes as input a number and a string (one of 'even', 'odd', 'positive', or 'negative'). The function returns True if the number has the property indicated by the string, and False if it doesn't. See the assertions below for examples. *** \n",
    "\n",
    "assert test_number(14, 'even') <br>\n",
    "assert not test_number(100, 'odd')<br>\n",
    "assert test_number(33, 'positive')<br>\n",
    "assert not test_number(100, 'negative')<br>"
   ]
  },
  {
   "cell_type": "code",
   "execution_count": 3,
   "metadata": {},
   "outputs": [
    {
     "name": "stdout",
     "output_type": "stream",
     "text": [
      "True\n",
      "False\n",
      "True\n",
      "False\n"
     ]
    }
   ],
   "source": [
    "def test_number(number:int, name:str) -> bool:\n",
    "    if (name) == \"even\":\n",
    "        return number %2==0\n",
    "    if (name) == \"odd\":\n",
    "        return number %2!=0\n",
    "    if (name) == \"positive\":\n",
    "        return number>0\n",
    "    else:\n",
    "        return number<0\n",
    "\n",
    "assert test_number(14, 'even') == True\n",
    "assert not test_number(100, 'odd') == True\n",
    "assert test_number(33, 'positive') == True\n",
    "assert not test_number(100, 'negative') == True\n",
    "\n",
    "print(test_number(14, 'even'))\n",
    "print(test_number(100, 'odd'))\n",
    "print(test_number(33, 'positive'))\n",
    "print(test_number(100,'negative'))"
   ]
  },
  {
   "cell_type": "markdown",
   "metadata": {},
   "source": [
    "*** (2) Implement the function display that takes no parameters. It prompts the user to enter any word or phrase and then prints out every character in that phrase, one per line. User input is indicated in bold face.***\n",
    "\n",
    "```python\n",
    ">>> display()\n",
    "Enter a word: Anteater\n",
    "A\n",
    "n\n",
    "t\n",
    "e\n",
    "a\n",
    "t\n",
    "e\n",
    "r\n",
    "```"
   ]
  },
  {
   "cell_type": "code",
   "execution_count": 4,
   "metadata": {},
   "outputs": [
    {
     "name": "stdout",
     "output_type": "stream",
     "text": [
      "Enter a word:Amteater\n",
      "A\n",
      "m\n",
      "t\n",
      "e\n",
      "a\n",
      "t\n",
      "e\n",
      "r\n"
     ]
    }
   ],
   "source": [
    "def display(word: str) -> str:\n",
    "    for i in range(len(word)):\n",
    "        print(word[i])\n",
    "\n",
    "word = str(input(\"Enter a word:\"))\n",
    "display(word)"
   ]
  },
  {
   "cell_type": "markdown",
   "metadata": {},
   "source": [
    "*** (3) Implement a function square_list that takes a list of integers and prints out each integer squared.***\n",
    "```python\n",
    ">>> square_list([2, 3, 4, 10])\n",
    "4\n",
    "9\n",
    "16\n",
    "100\n",
    "```"
   ]
  },
  {
   "cell_type": "code",
   "execution_count": 5,
   "metadata": {},
   "outputs": [
    {
     "name": "stdout",
     "output_type": "stream",
     "text": [
      "4\n",
      "9\n",
      "16\n",
      "100\n"
     ]
    }
   ],
   "source": [
    "def square_list(lst: list):\n",
    "    for i in lst:\n",
    "        print(i**2)\n",
    "\n",
    "square_list([2,3,4,10])"
   ]
  },
  {
   "cell_type": "markdown",
   "metadata": {},
   "source": [
    "*** (4) Implement the function match_first_letter that takes a one-character string and a list of strings and prints all the strings in the list that start with the specified character.***\n",
    "```python\n",
    ">>> match_first_letter('I', [‘Iron Man’, ‘Iron Man 2’, ‘The Avengers’, ‘Superman’, ‘I am Legend’])\n",
    "Iron Man\n",
    "Iron Man 2\n",
    "I am Legend\n",
    "```"
   ]
  },
  {
   "cell_type": "code",
   "execution_count": 8,
   "metadata": {},
   "outputs": [
    {
     "name": "stdout",
     "output_type": "stream",
     "text": [
      "Iron Man\n",
      "Iron Man 2\n",
      "I am Legend\n"
     ]
    }
   ],
   "source": [
    "def match_first_letter(letter: str, lst: list):\n",
    "    for i in lst:\n",
    "        if(i[0] == letter):\n",
    "            print(i)\n",
    "\n",
    "match_first_letter('I', ['Iron Man', 'Iron Man 2', 'The Avengers', 'Superman', 'I am Legend'])"
   ]
  },
  {
   "cell_type": "markdown",
   "metadata": {},
   "source": [
    "*** (5) Implement the function match_area_code that takes as a list of telephone area codes (three-digit strings) and a list of phone numbers in the form shown below. The function will print the phone numbers whose area code is on the list of area codes. ***\n",
    "```python\n",
    ">>> match_area_code(['949', '714'], ['(714)824-1234', '(419)312-8732', '(949)555-1234'])\n",
    "(714)824-1234\n",
    "(949)555-1234\n",
    "```"
   ]
  },
  {
   "cell_type": "code",
   "execution_count": 14,
   "metadata": {},
   "outputs": [
    {
     "name": "stdout",
     "output_type": "stream",
     "text": [
      "(714)824-1234\n",
      "(949)555-1234\n"
     ]
    }
   ],
   "source": [
    "def match_area_code(area: list, number: list):\n",
    "    for i in number:\n",
    "        for j in area:\n",
    "            if(i[1:4] == j):\n",
    "                print(i)\n",
    "\n",
    "match_area_code(['949', '714'], ['(714)824-1234', '(419)312-8732', '(949)555-1234'])"
   ]
  },
  {
   "cell_type": "markdown",
   "metadata": {},
   "source": [
    "*** (6) Copy your match_area_code function and name the copy matching_area_codes. Now modify your new function so that instead of printing out the matching phone numbers, it returns a list of the matching numbers. Follow the pattern of accumuating a result that we've seen in class. ***"
   ]
  },
  {
   "cell_type": "code",
   "execution_count": 15,
   "metadata": {},
   "outputs": [
    {
     "data": {
      "text/plain": [
       "['(714)824-1234', '(949)555-1234']"
      ]
     },
     "execution_count": 15,
     "metadata": {},
     "output_type": "execute_result"
    }
   ],
   "source": [
    "def match_area_code(area: list, number: list):\n",
    "    newLst = []\n",
    "    for i in number:\n",
    "        for j in area:\n",
    "            if(i[1:4] == j):\n",
    "                newLst.append(i)\n",
    "    return newLst\n",
    "\n",
    "match_area_code(['949', '714'], ['(714)824-1234', '(419)312-8732', '(949)555-1234'])"
   ]
  },
  {
   "cell_type": "markdown",
   "metadata": {},
   "source": [
    "*** Write a function called is_vowel that takes a one-character-long string and returns True if that character is a vowel and False otherwise. [A vowel, for our purposes here, is one of the letters a, e, i, o, or u (lower case or upper case).] You can do the central part of this task using the  in operator and a string containing the vowels; your task here is to package this up into a function that returns a boolean value. [Please check that the function name is capitalized precisely as shown above; it helps your TA in the grading.] ***\n",
    "\n",
    "Your function definition should follow the \"design recipe\" pattern we've described before. You should do all of this before you write the code for the body of the function. And we expect you to do this for every function you write from now on. If you ask a TA or tutor for help and you haven't done it, they'll just send you back to do it. (Of course, if you have questions about how to do this, they'll be glad to help.) <br>\n",
    "\n",
    "[Novice programmers are often tempted to code the body of this task as <br>\n",
    "```python\n",
    "if ... :  \n",
    "    return True\n",
    "else:\n",
    "    return False\n",
    "```\n",
    "\n",
    "\n",
    "But this is rather clumsy and redundant, because the boolean expression itself (the \"...\" above) has exactly the value you want to return; you should just say return ... and be done. <br>\n",
    "\n",
    "Take a minute to re-read this and understand it fully. ]<br>\n",
    "\n",
    "Finally, run your code (including the tests) to make sure the tests all pass. This is the pattern you will follow for every function you design and code.<br>"
   ]
  },
  {
   "cell_type": "code",
   "execution_count": 16,
   "metadata": {},
   "outputs": [],
   "source": [
    "def is_vowel(char:str) -> bool:\n",
    "    return char in 'aeiouAEIOU'\n",
    "\n",
    "assert is_vowel('e') == True\n",
    "assert is_vowel('O') == True"
   ]
  },
  {
   "cell_type": "markdown",
   "metadata": {},
   "source": [
    "*** (d.2) Write a function called print_nonvowels that takes a string and prints out all the characters in the string that are not vowels. Use your  is_vowel function (and one of the logical/boolean operators). (Note that this function prints its result rather than returning it. Whenever you define a function, the first thing to determine is whether the result should be returned or printed. When in doubt, return the value and let the program that called the function decide what to do with it. For class purposes, we'll typically just tell you which to do, as we did here.) ***\n",
    "\n",
    "Write some tests (also involving print statements), enough so that if they pass, you're convinced that your function works correctly. And run the tests, of course."
   ]
  },
  {
   "cell_type": "code",
   "execution_count": 17,
   "metadata": {},
   "outputs": [
    {
     "name": "stdout",
     "output_type": "stream",
     "text": [
      "p\n",
      "r\n",
      "n\n",
      "t\n",
      "_\n",
      "n\n",
      "n\n",
      "v\n",
      "w\n",
      "l\n",
      "s\n"
     ]
    }
   ],
   "source": [
    "def is_vowel(char:str) -> bool:\n",
    "    return char in 'aeiouAEIOU'\n",
    "\n",
    "def print_nonvowels(word: str) -> str:\n",
    "    for i in word:\n",
    "        if not is_vowel(i):\n",
    "            print(i)\n",
    "\n",
    "print_nonvowels(\"print_nonvowels\")   \n",
    "        "
   ]
  },
  {
   "cell_type": "markdown",
   "metadata": {},
   "source": [
    "*** (d.3) Write a function called nonvowels that takes a string and returns a string containing all the characters in the parameter string that are not vowels. Since you're returning a string instead of printing a character at a time, you'll need to construct that string in your function. Start with a variable (let's call it result) whose value is the empty string. Each time you find a nonvowel, add it to the end of result. Then, once you've gone through the whole parameter, result is what you return. [We just gave you the algorithm; your job is to implement it in Python.] ***\n",
    "\n",
    "Functions that return values are somewhat more convenient to test than functions that print values. You could do it the same way, printing out the tests and the results or printing out boolean expresions that are true if the test passes. Instead of print statements, though, you should use  assert statements as shown below. Their advantage is that if the test passes, nothing happens, so you can leave the assert statements in your code after you're satisfied your function works, without their cluttering up your output. (It's good to keep the assert statements there because later you may make changes that \"break\" your existing code, or you may need to change your existing code, and with the tests still in place you'll find any problems at the earliest possible time.) <br>\n",
    "\n",
    "Here are some assert statements for double and for is_vowel; note that the the assert statement expects a boolean expression., and that you'll have to define double if you actually want to run the assertions that call double.<br>\n",
    "```python\n",
    "assert double(0) == 0\n",
    "assert double(17.5) == 35\n",
    "assert double(-223344) == -446688\n",
    "assert is_vowel('a')\n",
    "assert is_vowel('U')\n",
    "assert not is_vowel('X')\n",
    "assert not is_vowel('?')\n",
    "```\n",
    "To see what happens when a test fails, assert something false like assert double(2)==5. (Note that when an assertion fails, there could be two reasons: (i) Your function may be incorrect, or (ii) your assertion—what you think the right answer is—may be wrong. You should consider both possibilities).\n",
    "\n",
    "Write some tests for nonvowels using assert statements."
   ]
  },
  {
   "cell_type": "code",
   "execution_count": 24,
   "metadata": {},
   "outputs": [
    {
     "data": {
      "text/plain": [
       "'prnt_nnvwls'"
      ]
     },
     "execution_count": 24,
     "metadata": {},
     "output_type": "execute_result"
    }
   ],
   "source": [
    "def is_vowel(char:str) -> bool:\n",
    "    return char in 'aeiouAEIOU'\n",
    "\n",
    "def print_nonvowels(word) -> str:\n",
    "    oldStr = str(word)\n",
    "    newStr = ''\n",
    "    for i in oldStr:\n",
    "        if not is_vowel(i):\n",
    "            newStr += i\n",
    "    \n",
    "    return newStr\n",
    "\n",
    "print_nonvowels(\"print_nonvowels\")   \n",
    "        "
   ]
  },
  {
   "cell_type": "markdown",
   "metadata": {},
   "source": [
    "*** Write a function called consonants that takes a string and returns a string containing all the letters in the parameter string that are not vowels. (This is not the same as nonvowels, whose definition refers to \"characters,\" which include digits and spaces and punctuation. Did you test nonvowels with strings including non-letters? If not, go back and do it, changing the function's definition if necessary to make it work correctly.) ***\n",
    "\n",
    "Before you write the body of the function, follow the \"design recipe\" steps: specify the types of the parameter and return value; include a short purpose statement as a docstring; write examples in the form of assert statements."
   ]
  },
  {
   "cell_type": "code",
   "execution_count": 8,
   "metadata": {},
   "outputs": [],
   "source": [
    "def consonants(word) -> str:\n",
    "    oldStr = str(word)\n",
    "    newStr = ''\n",
    "    for i in oldStr:\n",
    "        if i in 'qwrtypsdfghjklzxcvbnmQWRTYPSDFGHJKLZXCVBNM':\n",
    "            newStr += i\n",
    "    \n",
    "    return newStr\n",
    "\n",
    "assert consonants(\"p1rint_NonvoWels\") == 'prntNnvWls'\n",
    "assert consonants(123123) == ''\n"
   ]
  },
  {
   "cell_type": "markdown",
   "metadata": {},
   "source": [
    "*** (d.5) Write a function called select_letters that takes two parameters, both strings, and returns a string. If the first parameter is 'v', it returns a string containing all the vowels in the second parameter; if the first parameter is 'c', it returns a string containing all the consonants in the second parameter. If the first parameter is anything else, it returns the empty string. So, select_letters('v', 'facetiously') would return aeiou and  select_letters('c', 'facetiously') would return fctsly. [If you count Y as a vowel, your results will be slightly different.] ***"
   ]
  },
  {
   "cell_type": "code",
   "execution_count": 20,
   "metadata": {},
   "outputs": [
    {
     "data": {
      "text/plain": [
       "'Wrtfnctnclldhdvwlsthttksstrngndrtrnsstrng'"
      ]
     },
     "execution_count": 20,
     "metadata": {},
     "output_type": "execute_result"
    }
   ],
   "source": [
    "def is_vowel(char:str) -> bool:\n",
    "    return char in 'aeiouAEIOU'\n",
    "\n",
    "def  is_consonants(char: str) -> bool:\n",
    "    return char in 'qwrtypsdfghjklzxcvbnmQWRTYPSDFGHJKLZXCVBNM'\n",
    "\n",
    "def select_letters(choose: str, word: str) -> str:\n",
    "    oldStr = str(word)\n",
    "    newStr = ''\n",
    "    if(choose == 'c'):\n",
    "        for i in oldStr:\n",
    "            if is_consonants(i):\n",
    "                newStr += i\n",
    "    elif(choose == 'v'):\n",
    "        for i in oldStr:\n",
    "            if is_vowel(i):\n",
    "                newStr += i\n",
    "    else:\n",
    "        newStr = ''\n",
    "    \n",
    "    return newStr\n",
    "\n",
    "assert select_letters('c','p1rint_NonvoWels') == 'prntNnvWls'\n",
    "assert select_letters('v', 'p1rint_NOnvowels') == 'iOoe'\n",
    "assert select_letters('v', 'facetiously')  == 'aeiou'\n",
    "assert select_letters('c', 'facetiously')  == 'fctsly'\n",
    "\n",
    "select_letters('c', ' Write a function called hide_vowels that takes a string and returns a string')"
   ]
  },
  {
   "cell_type": "markdown",
   "metadata": {},
   "source": [
    "*** (d.6) Write a function called hide_vowels that takes a string and returns a string in which every vowel in the parameter is replaced with a hyphen (\"-\") and all other characters remain unchanged. After your testing shows that it's correct, try running it with a couple of sentences; you may be able to understand the sentences even with all the vowels hidden.***"
   ]
  },
  {
   "cell_type": "code",
   "execution_count": 23,
   "metadata": {},
   "outputs": [
    {
     "name": "stdout",
     "output_type": "stream",
     "text": [
      "Wr-t- - f-nct--n c-ll-d h-d-_v-w-ls th-t t-k-s - str-ng -nd r-t-rns - str-ng\n",
      "y-- m-y b- -bl- t- -nd-rst-nd th- s-nt-nc-s -v-n w-th -ll th- v-w-ls h-dd-n\n"
     ]
    }
   ],
   "source": [
    "def is_vowel(char:str) -> bool:\n",
    "    return char in 'aeiouAEIOU'\n",
    "\n",
    "def hide_vowels(word: str) -> str:\n",
    "    oldStr = str(word)\n",
    "    newStr = ''\n",
    "    for i in oldStr:\n",
    "        if is_vowel(i):\n",
    "            newStr += '-'\n",
    "        else:\n",
    "            newStr += i\n",
    "\n",
    "    return newStr\n",
    "\n",
    "print(hide_vowels('Write a function called hide_vowels that takes a string and returns a string'))\n",
    "print(hide_vowels('you may be able to understand the sentences even with all the vowels hidden'))\n",
    "        \n",
    "    "
   ]
  },
  {
   "cell_type": "markdown",
   "metadata": {},
   "source": [
    "*** (e) Using the definition Restaurant = namedtuple('Restaurant', 'name cuisine phone dish price'), write the function Restaurant_change_price that takes two arguments, a Restaurant object and a number, and returns a Restaurant object with the same contents as the parameter except that the price has been increased by the specified number. ***\n",
    "\n"
   ]
  },
  {
   "cell_type": "code",
   "execution_count": 33,
   "metadata": {},
   "outputs": [
    {
     "data": {
      "text/plain": [
       "Restaurant(name='Pascal', cuisine='French', phone='333-4444', dish='Bouillabaisse', price=42.0)"
      ]
     },
     "execution_count": 33,
     "metadata": {},
     "output_type": "execute_result"
    }
   ],
   "source": [
    "from collections import namedtuple\n",
    "\n",
    "Restaurant = namedtuple('Restaurant', 'name cuisine phone dish price')\n",
    "\n",
    "R1 = Restaurant(\"Taillevent\", \"French\", \"343-3434\", \"Escargots\", 24.50)\n",
    "R2 = Restaurant(\"La Tour D'Argent\", \"French\", \"343-3344\", \"Ris de Veau\", 48.50)\n",
    "R3 = Restaurant(\"Pascal\", \"French\", \"333-4444\", \"Bouillabaisse\", 32.00)\n",
    "R4 = Restaurant(\"Thai Touch\", \"Thai\", \"444-3333\", \"Mee Krob\", 10.95)\n",
    "R5 = Restaurant(\"Thai Dishes\", \"Thai\", \"333-4433\", \"Paht Woon Sen\",  8.50)\n",
    "R6 = Restaurant(\"Thai Spoon\", \"Thai\", \"334-3344\", \"Mussamun\", 9.00)\n",
    "R7 = Restaurant(\"McDonald's\", \"Burgers\", \"333-4443\", \"Big Mac\", 3.95)\n",
    "\n",
    "RL = [R1, R2, R3, R4, R5, R6, R7]\n",
    "def Restaurant_change_price(Rst, priceIncrease):\n",
    "    newPrice = Rst.price + priceIncrease\n",
    "    Rst = Restaurant(Rst.name, Rst.cuisine, Rst.phone, Rst.dish, newPrice)\n",
    "    return Rst\n",
    "\n",
    "Restaurant_change_price(RL[2], 10)"
   ]
  },
  {
   "cell_type": "markdown",
   "metadata": {},
   "source": [
    "*** (f) You can download code from http://www.ics.uci.edu/~kay/python/restaurants.py; it defines a list called RL that contains 26 Restaurant objects.***\n",
    "\n",
    "(In that file, each of the 26 restaurants is given an individual variable name, R1 through R26. That is not necessary; we could create the list of restaurants as we did in Lab Assignment 2, by putting 26 calls to Restaurant() within square brackets. But having individual variable names makes constructing tests more convenient; we can say, e.g.,  assert cheapest(RL) == R10 .) \n",
    "\n",
    "***(f.1) Write a function called alphabetical that takes a list of restaurants and returns that list in alphabetical order by name. Except for making this a function, you did this task in last week's lab.***\n"
   ]
  },
  {
   "cell_type": "code",
   "execution_count": 37,
   "metadata": {},
   "outputs": [
    {
     "data": {
      "text/plain": [
       "[Restaurant(name='Addis Ababa', cuisine='Ethiopian', phone='337-4453', dish='Yesiga Tibs', price=10.5),\n",
       " Restaurant(name='Burger King', cuisine='Burgers', phone='444-3344', dish='Whopper', price=3.75),\n",
       " Restaurant(name='Chez Panisse', cuisine='California', phone='222-3322', dish='Grilled Duck Breast', price=25.0),\n",
       " Restaurant(name='Gaylord', cuisine='Indian', phone='333-3433', dish='Tandoori Chicken', price=13.5),\n",
       " Restaurant(name=\"Gina's\", cuisine='Pizza', phone='334-4433', dish='Combo Pizza', price=12.95),\n",
       " Restaurant(name='Golden Pagoda', cuisine='Chinese', phone='232-3232', dish='Egg Foo Young', price=8.5),\n",
       " Restaurant(name='In-N-Out Burger', cuisine='Burgers', phone='434-3344', dish='Cheeseburger', price=2.5),\n",
       " Restaurant(name='Jitlada', cuisine='Thai', phone='324-4433', dish='Paht Woon Sen', price=15.5),\n",
       " Restaurant(name=\"La Tour D'Argent\", cuisine='French', phone='343-3344', dish='Ris de Veau', price=48.5),\n",
       " Restaurant(name=\"Langer's\", cuisine='Delicatessen', phone='333-2223', dish='Pastrami Sandwich', price=11.5),\n",
       " Restaurant(name=\"McDonald's\", cuisine='Burgers', phone='333-4443', dish='Big Mac', price=3.95),\n",
       " Restaurant(name='Mr. Chow', cuisine='Chinese', phone='222-3333', dish='Peking Duck', price=24.5),\n",
       " Restaurant(name='Nobu', cuisine='Japanese', phone='335-4433', dish='Natto Temaki', price=5.5),\n",
       " Restaurant(name='Nola', cuisine='New Orleans', phone='336-4433', dish='Jambalaya', price=5.5),\n",
       " Restaurant(name='Noma', cuisine='Modern Danish', phone='337-4433', dish='Birch Sap', price=35.5),\n",
       " Restaurant(name='Nonna', cuisine='Italian', phone='355-4433', dish='Stracotto', price=25.5),\n",
       " Restaurant(name='Pascal', cuisine='French', phone='333-4444', dish='Bouillabaisse', price=32.0),\n",
       " Restaurant(name='Peacock, Room', cuisine='Indian', phone='333-4443', dish='Rogan Josh', price=12.5),\n",
       " Restaurant(name='Spago', cuisine='California', phone='333-2222', dish='Striped Bass', price=24.5),\n",
       " Restaurant(name='Sriped Bass', cuisine='Seafood', phone='333-2233', dish='Cedar Plank Salmon', price=21.5),\n",
       " Restaurant(name='Taillevent', cuisine='French', phone='343-3434', dish='Escargots', price=24.5),\n",
       " Restaurant(name='Thai Dishes', cuisine='Thai', phone='333-4433', dish='Paht Woon Sen', price=8.5),\n",
       " Restaurant(name='Thai Spoon', cuisine='Thai', phone='334-3344', dish='Mussamun', price=9.0),\n",
       " Restaurant(name='Thai Touch', cuisine='Thai', phone='444-3333', dish='Mee Krob', price=10.95),\n",
       " Restaurant(name='The Shack', cuisine='Burgers', phone='333-3334', dish='Hot Link Burger', price=4.5),\n",
       " Restaurant(name=\"Wahoo's\", cuisine='Fish Tacos', phone='443-4443', dish='Mahi Mahi Burrito', price=7.5)]"
      ]
     },
     "execution_count": 37,
     "metadata": {},
     "output_type": "execute_result"
    }
   ],
   "source": [
    "from collections import namedtuple\n",
    "\n",
    "Restaurant = namedtuple('Restaurant', 'name cuisine phone dish price')\n",
    "# Restaurant attributes: name, kind of food served, phone number,\n",
    "#\tbest dish, price of that dish\n",
    "\n",
    "R1 = Restaurant(\"Taillevent\", \"French\", \"343-3434\", \"Escargots\", 24.50)\n",
    "R2 = Restaurant(\"La Tour D'Argent\", \"French\", \"343-3344\", \"Ris de Veau\", 48.50)\n",
    "R3 = Restaurant(\"Pascal\", \"French\", \"333-4444\", \"Bouillabaisse\", 32.00)\n",
    "R4 = Restaurant(\"Thai Touch\", \"Thai\", \"444-3333\", \"Mee Krob\", 10.95)\n",
    "R5 = Restaurant(\"Thai Dishes\", \"Thai\", \"333-4433\", \"Paht Woon Sen\",  8.50)\n",
    "R6 = Restaurant(\"Thai Spoon\", \"Thai\", \"334-3344\", \"Mussamun\", 9.00)\n",
    "R7 = Restaurant(\"McDonald's\", \"Burgers\", \"333-4443\", \"Big Mac\", 3.95)\n",
    "R8 = Restaurant(\"Burger King\", \"Burgers\", \"444-3344\", \"Whopper\", 3.75)\n",
    "R9 = Restaurant(\"Wahoo's\", \"Fish Tacos\", \"443-4443\", \"Mahi Mahi Burrito\", 7.50)\n",
    "R10 = Restaurant(\"In-N-Out Burger\", \"Burgers\", \"434-3344\", \"Cheeseburger\", 2.50)\n",
    "R11 = Restaurant(\"The Shack\", \"Burgers\", \"333-3334\", \"Hot Link Burger\", 4.50)\n",
    "R12 = Restaurant(\"Gina's\", \"Pizza\", \"334-4433\", \"Combo Pizza\", 12.95)\n",
    "R13 = Restaurant(\"Peacock, Room\", \"Indian\", \"333-4443\", \"Rogan Josh\", 12.50)\n",
    "R14 = Restaurant(\"Gaylord\", \"Indian\", \"333-3433\", \"Tandoori Chicken\", 13.50)\n",
    "R15 = Restaurant(\"Mr. Chow\", \"Chinese\", \"222-3333\", \"Peking Duck\", 24.50)\n",
    "R16 = Restaurant(\"Chez Panisse\", \"California\", \"222-3322\", \"Grilled Duck Breast\", 25.00)\n",
    "R17 = Restaurant(\"Spago\", \"California\", \"333-2222\", \"Striped Bass\", 24.50)\n",
    "R18 = Restaurant(\"Sriped Bass\", \"Seafood\", \"333-2233\", \"Cedar Plank Salmon\", 21.50)\n",
    "R19 = Restaurant(\"Golden Pagoda\", \"Chinese\", \"232-3232\", \"Egg Foo Young\", 8.50)\n",
    "R20 = Restaurant(\"Langer's\", \"Delicatessen\", \"333-2223\", \"Pastrami Sandwich\", 11.50)\n",
    "R21 = Restaurant(\"Nobu\", \"Japanese\", \"335-4433\", \"Natto Temaki\", 5.50)\n",
    "R22 = Restaurant(\"Nonna\", \"Italian\", \"355-4433\", \"Stracotto\", 25.50)\n",
    "R23 = Restaurant(\"Jitlada\", \"Thai\", \"324-4433\", \"Paht Woon Sen\", 15.50)\n",
    "R24 = Restaurant(\"Nola\", \"New Orleans\", \"336-4433\", \"Jambalaya\", 5.50)\n",
    "R25 = Restaurant(\"Noma\", \"Modern Danish\", \"337-4433\", \"Birch Sap\", 35.50)\n",
    "R26 = Restaurant(\"Addis Ababa\", \"Ethiopian\", \"337-4453\", \"Yesiga Tibs\", 10.50) \n",
    "\n",
    "\n",
    "RL = [R1, R2, R3, R4, R5, R6, R7, R8, R9, R10, R11, R12, R13, R14, R15, R16, R17, R18, R19, R20, R21, R22, R23, R24, R25, R26]\n",
    "\n",
    "def alphabetical(RL):\n",
    "    newRL = sorted(RL, key=lambda Restaurant: Restaurant.name)\n",
    "    return newRL\n",
    "\n",
    "alphabetical(RL)"
   ]
  },
  {
   "cell_type": "markdown",
   "metadata": {},
   "source": [
    "*** (f.2) Write a function called alphabetical_names that takes a list of restaurants and returns a list of the names of all the restaurants in alphabetical order by name. [One of the things you learn in this course is to read technical documents very closely. Part (f.1) asked for a list of restaurants; this part asks for a list of strings, with each string the name of a restaurant.]***\n",
    "\n"
   ]
  },
  {
   "cell_type": "code",
   "execution_count": 39,
   "metadata": {},
   "outputs": [
    {
     "data": {
      "text/plain": [
       "['Addis Ababa',\n",
       " 'Burger King',\n",
       " 'Chez Panisse',\n",
       " 'Gaylord',\n",
       " \"Gina's\",\n",
       " 'Golden Pagoda',\n",
       " 'In-N-Out Burger',\n",
       " 'Jitlada',\n",
       " \"La Tour D'Argent\",\n",
       " \"Langer's\",\n",
       " \"McDonald's\",\n",
       " 'Mr. Chow',\n",
       " 'Nobu',\n",
       " 'Nola',\n",
       " 'Noma',\n",
       " 'Nonna',\n",
       " 'Pascal',\n",
       " 'Peacock, Room',\n",
       " 'Spago',\n",
       " 'Sriped Bass',\n",
       " 'Taillevent',\n",
       " 'Thai Dishes',\n",
       " 'Thai Spoon',\n",
       " 'Thai Touch',\n",
       " 'The Shack',\n",
       " \"Wahoo's\"]"
      ]
     },
     "execution_count": 39,
     "metadata": {},
     "output_type": "execute_result"
    }
   ],
   "source": [
    "from collections import namedtuple\n",
    "\n",
    "Restaurant = namedtuple('Restaurant', 'name cuisine phone dish price')\n",
    "# Restaurant attributes: name, kind of food served, phone number,\n",
    "#\tbest dish, price of that dish\n",
    "\n",
    "R1 = Restaurant(\"Taillevent\", \"French\", \"343-3434\", \"Escargots\", 24.50)\n",
    "R2 = Restaurant(\"La Tour D'Argent\", \"French\", \"343-3344\", \"Ris de Veau\", 48.50)\n",
    "R3 = Restaurant(\"Pascal\", \"French\", \"333-4444\", \"Bouillabaisse\", 32.00)\n",
    "R4 = Restaurant(\"Thai Touch\", \"Thai\", \"444-3333\", \"Mee Krob\", 10.95)\n",
    "R5 = Restaurant(\"Thai Dishes\", \"Thai\", \"333-4433\", \"Paht Woon Sen\",  8.50)\n",
    "R6 = Restaurant(\"Thai Spoon\", \"Thai\", \"334-3344\", \"Mussamun\", 9.00)\n",
    "R7 = Restaurant(\"McDonald's\", \"Burgers\", \"333-4443\", \"Big Mac\", 3.95)\n",
    "R8 = Restaurant(\"Burger King\", \"Burgers\", \"444-3344\", \"Whopper\", 3.75)\n",
    "R9 = Restaurant(\"Wahoo's\", \"Fish Tacos\", \"443-4443\", \"Mahi Mahi Burrito\", 7.50)\n",
    "R10 = Restaurant(\"In-N-Out Burger\", \"Burgers\", \"434-3344\", \"Cheeseburger\", 2.50)\n",
    "R11 = Restaurant(\"The Shack\", \"Burgers\", \"333-3334\", \"Hot Link Burger\", 4.50)\n",
    "R12 = Restaurant(\"Gina's\", \"Pizza\", \"334-4433\", \"Combo Pizza\", 12.95)\n",
    "R13 = Restaurant(\"Peacock, Room\", \"Indian\", \"333-4443\", \"Rogan Josh\", 12.50)\n",
    "R14 = Restaurant(\"Gaylord\", \"Indian\", \"333-3433\", \"Tandoori Chicken\", 13.50)\n",
    "R15 = Restaurant(\"Mr. Chow\", \"Chinese\", \"222-3333\", \"Peking Duck\", 24.50)\n",
    "R16 = Restaurant(\"Chez Panisse\", \"California\", \"222-3322\", \"Grilled Duck Breast\", 25.00)\n",
    "R17 = Restaurant(\"Spago\", \"California\", \"333-2222\", \"Striped Bass\", 24.50)\n",
    "R18 = Restaurant(\"Sriped Bass\", \"Seafood\", \"333-2233\", \"Cedar Plank Salmon\", 21.50)\n",
    "R19 = Restaurant(\"Golden Pagoda\", \"Chinese\", \"232-3232\", \"Egg Foo Young\", 8.50)\n",
    "R20 = Restaurant(\"Langer's\", \"Delicatessen\", \"333-2223\", \"Pastrami Sandwich\", 11.50)\n",
    "R21 = Restaurant(\"Nobu\", \"Japanese\", \"335-4433\", \"Natto Temaki\", 5.50)\n",
    "R22 = Restaurant(\"Nonna\", \"Italian\", \"355-4433\", \"Stracotto\", 25.50)\n",
    "R23 = Restaurant(\"Jitlada\", \"Thai\", \"324-4433\", \"Paht Woon Sen\", 15.50)\n",
    "R24 = Restaurant(\"Nola\", \"New Orleans\", \"336-4433\", \"Jambalaya\", 5.50)\n",
    "R25 = Restaurant(\"Noma\", \"Modern Danish\", \"337-4433\", \"Birch Sap\", 35.50)\n",
    "R26 = Restaurant(\"Addis Ababa\", \"Ethiopian\", \"337-4453\", \"Yesiga Tibs\", 10.50) \n",
    "\n",
    "\n",
    "RL = [R1, R2, R3, R4, R5, R6, R7, R8, R9, R10, R11, R12, R13, R14, R15, R16, R17, R18, R19, R20, R21, R22, R23, R24, R25, R26]\n",
    "\n",
    "def alphabetical_names(RL):\n",
    "    newRL = sorted(RL, key=lambda Restaurant: Restaurant.name)\n",
    "    namesOfRestaurant = []\n",
    "    for i in newRL:\n",
    "        namesOfRestaurant.append(i.name)\n",
    "    \n",
    "    return namesOfRestaurant\n",
    "\n",
    "alphabetical_names(RL)"
   ]
  },
  {
   "cell_type": "markdown",
   "metadata": {},
   "source": [
    "*** (f.3) Write a function called all_Thai that takes a list of restaurants and returns a list of all the Thai restaurants (i.e., whose cuisine attribute is Thai). The body of the function follows the same pattern as your vowel-selecting function above. Recognizing these similar patterns is a programming skill you will develop. ***"
   ]
  },
  {
   "cell_type": "code",
   "execution_count": 53,
   "metadata": {},
   "outputs": [
    {
     "data": {
      "text/plain": [
       "[Restaurant(name='Thai Touch', cuisine='Thai', phone='444-3333', dish='Mee Krob', price=10.95),\n",
       " Restaurant(name='Thai Dishes', cuisine='Thai', phone='333-4433', dish='Paht Woon Sen', price=8.5),\n",
       " Restaurant(name='Thai Spoon', cuisine='Thai', phone='334-3344', dish='Mussamun', price=9.0),\n",
       " Restaurant(name='Jitlada', cuisine='Thai', phone='324-4433', dish='Paht Woon Sen', price=15.5)]"
      ]
     },
     "execution_count": 53,
     "metadata": {},
     "output_type": "execute_result"
    }
   ],
   "source": [
    "from collections import namedtuple\n",
    "\n",
    "Restaurant = namedtuple('Restaurant', 'name cuisine phone dish price')\n",
    "# Restaurant attributes: name, kind of food served, phone number,\n",
    "#\tbest dish, price of that dish\n",
    "\n",
    "R1 = Restaurant(\"Taillevent\", \"French\", \"343-3434\", \"Escargots\", 24.50)\n",
    "R2 = Restaurant(\"La Tour D'Argent\", \"French\", \"343-3344\", \"Ris de Veau\", 48.50)\n",
    "R3 = Restaurant(\"Pascal\", \"French\", \"333-4444\", \"Bouillabaisse\", 32.00)\n",
    "R4 = Restaurant(\"Thai Touch\", \"Thai\", \"444-3333\", \"Mee Krob\", 10.95)\n",
    "R5 = Restaurant(\"Thai Dishes\", \"Thai\", \"333-4433\", \"Paht Woon Sen\",  8.50)\n",
    "R6 = Restaurant(\"Thai Spoon\", \"Thai\", \"334-3344\", \"Mussamun\", 9.00)\n",
    "R7 = Restaurant(\"McDonald's\", \"Burgers\", \"333-4443\", \"Big Mac\", 3.95)\n",
    "R8 = Restaurant(\"Burger King\", \"Burgers\", \"444-3344\", \"Whopper\", 3.75)\n",
    "R9 = Restaurant(\"Wahoo's\", \"Fish Tacos\", \"443-4443\", \"Mahi Mahi Burrito\", 7.50)\n",
    "R10 = Restaurant(\"In-N-Out Burger\", \"Burgers\", \"434-3344\", \"Cheeseburger\", 2.50)\n",
    "R11 = Restaurant(\"The Shack\", \"Burgers\", \"333-3334\", \"Hot Link Burger\", 4.50)\n",
    "R12 = Restaurant(\"Gina's\", \"Pizza\", \"334-4433\", \"Combo Pizza\", 12.95)\n",
    "R13 = Restaurant(\"Peacock, Room\", \"Indian\", \"333-4443\", \"Rogan Josh\", 12.50)\n",
    "R14 = Restaurant(\"Gaylord\", \"Indian\", \"333-3433\", \"Tandoori Chicken\", 13.50)\n",
    "R15 = Restaurant(\"Mr. Chow\", \"Chinese\", \"222-3333\", \"Peking Duck\", 24.50)\n",
    "R16 = Restaurant(\"Chez Panisse\", \"California\", \"222-3322\", \"Grilled Duck Breast\", 25.00)\n",
    "R17 = Restaurant(\"Spago\", \"California\", \"333-2222\", \"Striped Bass\", 24.50)\n",
    "R18 = Restaurant(\"Sriped Bass\", \"Seafood\", \"333-2233\", \"Cedar Plank Salmon\", 21.50)\n",
    "R19 = Restaurant(\"Golden Pagoda\", \"Chinese\", \"232-3232\", \"Egg Foo Young\", 8.50)\n",
    "R20 = Restaurant(\"Langer's\", \"Delicatessen\", \"333-2223\", \"Pastrami Sandwich\", 11.50)\n",
    "R21 = Restaurant(\"Nobu\", \"Japanese\", \"335-4433\", \"Natto Temaki\", 5.50)\n",
    "R22 = Restaurant(\"Nonna\", \"Italian\", \"355-4433\", \"Stracotto\", 25.50)\n",
    "R23 = Restaurant(\"Jitlada\", \"Thai\", \"324-4433\", \"Paht Woon Sen\", 15.50)\n",
    "R24 = Restaurant(\"Nola\", \"New Orleans\", \"336-4433\", \"Jambalaya\", 5.50)\n",
    "R25 = Restaurant(\"Noma\", \"Modern Danish\", \"337-4433\", \"Birch Sap\", 35.50)\n",
    "R26 = Restaurant(\"Addis Ababa\", \"Ethiopian\", \"337-4453\", \"Yesiga Tibs\", 10.50) \n",
    "\n",
    "\n",
    "RL = [R1, R2, R3, R4, R5, R6, R7, R8, R9, R10, R11, R12, R13, R14, R15, R16, R17, R18, R19, R20, R21, R22, R23, R24, R25, R26]\n",
    "\n",
    "def all_thai(RL):\n",
    "    newRL = []\n",
    "    for i in RL:\n",
    "        if(i.cuisine.lower() == 'ThAi'.lower()):\n",
    "            newRL.append(i)\n",
    "    return newRL        \n",
    "\n",
    "all_thai(RL)"
   ]
  },
  {
   "cell_type": "markdown",
   "metadata": {},
   "source": [
    "*** (f.4) Write a function called select_cuisine that takes a list of restaurants and a string representing a cuisine. It should return a list of all the restaurants that serve the specified cuisine. ***"
   ]
  },
  {
   "cell_type": "code",
   "execution_count": 51,
   "metadata": {},
   "outputs": [
    {
     "data": {
      "text/plain": [
       "[Restaurant(name='Mr. Chow', cuisine='Chinese', phone='222-3333', dish='Peking Duck', price=24.5),\n",
       " Restaurant(name='Golden Pagoda', cuisine='Chinese', phone='232-3232', dish='Egg Foo Young', price=8.5)]"
      ]
     },
     "execution_count": 51,
     "metadata": {},
     "output_type": "execute_result"
    }
   ],
   "source": [
    "from collections import namedtuple\n",
    "\n",
    "Restaurant = namedtuple('Restaurant', 'name cuisine phone dish price')\n",
    "# Restaurant attributes: name, kind of food served, phone number,\n",
    "#\tbest dish, price of that dish\n",
    "\n",
    "R1 = Restaurant(\"Taillevent\", \"French\", \"343-3434\", \"Escargots\", 24.50)\n",
    "R2 = Restaurant(\"La Tour D'Argent\", \"French\", \"343-3344\", \"Ris de Veau\", 48.50)\n",
    "R3 = Restaurant(\"Pascal\", \"French\", \"333-4444\", \"Bouillabaisse\", 32.00)\n",
    "R4 = Restaurant(\"Thai Touch\", \"Thai\", \"444-3333\", \"Mee Krob\", 10.95)\n",
    "R5 = Restaurant(\"Thai Dishes\", \"Thai\", \"333-4433\", \"Paht Woon Sen\",  8.50)\n",
    "R6 = Restaurant(\"Thai Spoon\", \"Thai\", \"334-3344\", \"Mussamun\", 9.00)\n",
    "R7 = Restaurant(\"McDonald's\", \"Burgers\", \"333-4443\", \"Big Mac\", 3.95)\n",
    "R8 = Restaurant(\"Burger King\", \"Burgers\", \"444-3344\", \"Whopper\", 3.75)\n",
    "R9 = Restaurant(\"Wahoo's\", \"Fish Tacos\", \"443-4443\", \"Mahi Mahi Burrito\", 7.50)\n",
    "R10 = Restaurant(\"In-N-Out Burger\", \"Burgers\", \"434-3344\", \"Cheeseburger\", 2.50)\n",
    "R11 = Restaurant(\"The Shack\", \"Burgers\", \"333-3334\", \"Hot Link Burger\", 4.50)\n",
    "R12 = Restaurant(\"Gina's\", \"Pizza\", \"334-4433\", \"Combo Pizza\", 12.95)\n",
    "R13 = Restaurant(\"Peacock, Room\", \"Indian\", \"333-4443\", \"Rogan Josh\", 12.50)\n",
    "R14 = Restaurant(\"Gaylord\", \"Indian\", \"333-3433\", \"Tandoori Chicken\", 13.50)\n",
    "R15 = Restaurant(\"Mr. Chow\", \"Chinese\", \"222-3333\", \"Peking Duck\", 24.50)\n",
    "R16 = Restaurant(\"Chez Panisse\", \"California\", \"222-3322\", \"Grilled Duck Breast\", 25.00)\n",
    "R17 = Restaurant(\"Spago\", \"California\", \"333-2222\", \"Striped Bass\", 24.50)\n",
    "R18 = Restaurant(\"Sriped Bass\", \"Seafood\", \"333-2233\", \"Cedar Plank Salmon\", 21.50)\n",
    "R19 = Restaurant(\"Golden Pagoda\", \"Chinese\", \"232-3232\", \"Egg Foo Young\", 8.50)\n",
    "R20 = Restaurant(\"Langer's\", \"Delicatessen\", \"333-2223\", \"Pastrami Sandwich\", 11.50)\n",
    "R21 = Restaurant(\"Nobu\", \"Japanese\", \"335-4433\", \"Natto Temaki\", 5.50)\n",
    "R22 = Restaurant(\"Nonna\", \"Italian\", \"355-4433\", \"Stracotto\", 25.50)\n",
    "R23 = Restaurant(\"Jitlada\", \"Thai\", \"324-4433\", \"Paht Woon Sen\", 15.50)\n",
    "R24 = Restaurant(\"Nola\", \"New Orleans\", \"336-4433\", \"Jambalaya\", 5.50)\n",
    "R25 = Restaurant(\"Noma\", \"Modern Danish\", \"337-4433\", \"Birch Sap\", 35.50)\n",
    "R26 = Restaurant(\"Addis Ababa\", \"Ethiopian\", \"337-4453\", \"Yesiga Tibs\", 10.50) \n",
    "\n",
    "\n",
    "RL = [R1, R2, R3, R4, R5, R6, R7, R8, R9, R10, R11, R12, R13, R14, R15, R16, R17, R18, R19, R20, R21, R22, R23, R24, R25, R26]\n",
    "\n",
    "def select_Cuisine(RL: list, selectCuisine: str):\n",
    "    newRL = []\n",
    "    for i in RL:\n",
    "        if(i.cuisine.lower() == selectCuisine.lower()):\n",
    "            newRL.append(i)\n",
    "    return newRL        \n",
    "\n",
    "select_Cuisine(RL, 'ChiNeSe')"
   ]
  },
  {
   "cell_type": "markdown",
   "metadata": {},
   "source": [
    "*** (f.5) Write a function called select_cheaper that takes a list of restaurants and a number (a float) and returns a list of all the restaurants whose price is less than the specified number.***\n",
    "\n"
   ]
  },
  {
   "cell_type": "code",
   "execution_count": 56,
   "metadata": {},
   "outputs": [
    {
     "data": {
      "text/plain": [
       "[Restaurant(name='Thai Dishes', cuisine='Thai', phone='333-4433', dish='Paht Woon Sen', price=8.5),\n",
       " Restaurant(name='Thai Spoon', cuisine='Thai', phone='334-3344', dish='Mussamun', price=9.0),\n",
       " Restaurant(name=\"McDonald's\", cuisine='Burgers', phone='333-4443', dish='Big Mac', price=3.95),\n",
       " Restaurant(name='Burger King', cuisine='Burgers', phone='444-3344', dish='Whopper', price=3.75),\n",
       " Restaurant(name=\"Wahoo's\", cuisine='Fish Tacos', phone='443-4443', dish='Mahi Mahi Burrito', price=7.5),\n",
       " Restaurant(name='In-N-Out Burger', cuisine='Burgers', phone='434-3344', dish='Cheeseburger', price=2.5),\n",
       " Restaurant(name='The Shack', cuisine='Burgers', phone='333-3334', dish='Hot Link Burger', price=4.5),\n",
       " Restaurant(name='Golden Pagoda', cuisine='Chinese', phone='232-3232', dish='Egg Foo Young', price=8.5),\n",
       " Restaurant(name='Nobu', cuisine='Japanese', phone='335-4433', dish='Natto Temaki', price=5.5),\n",
       " Restaurant(name='Nola', cuisine='New Orleans', phone='336-4433', dish='Jambalaya', price=5.5)]"
      ]
     },
     "execution_count": 56,
     "metadata": {},
     "output_type": "execute_result"
    }
   ],
   "source": [
    "from collections import namedtuple\n",
    "\n",
    "Restaurant = namedtuple('Restaurant', 'name cuisine phone dish price')\n",
    "# Restaurant attributes: name, kind of food served, phone number,\n",
    "#\tbest dish, price of that dish\n",
    "\n",
    "R1 = Restaurant(\"Taillevent\", \"French\", \"343-3434\", \"Escargots\", 24.50)\n",
    "R2 = Restaurant(\"La Tour D'Argent\", \"French\", \"343-3344\", \"Ris de Veau\", 48.50)\n",
    "R3 = Restaurant(\"Pascal\", \"French\", \"333-4444\", \"Bouillabaisse\", 32.00)\n",
    "R4 = Restaurant(\"Thai Touch\", \"Thai\", \"444-3333\", \"Mee Krob\", 10.95)\n",
    "R5 = Restaurant(\"Thai Dishes\", \"Thai\", \"333-4433\", \"Paht Woon Sen\",  8.50)\n",
    "R6 = Restaurant(\"Thai Spoon\", \"Thai\", \"334-3344\", \"Mussamun\", 9.00)\n",
    "R7 = Restaurant(\"McDonald's\", \"Burgers\", \"333-4443\", \"Big Mac\", 3.95)\n",
    "R8 = Restaurant(\"Burger King\", \"Burgers\", \"444-3344\", \"Whopper\", 3.75)\n",
    "R9 = Restaurant(\"Wahoo's\", \"Fish Tacos\", \"443-4443\", \"Mahi Mahi Burrito\", 7.50)\n",
    "R10 = Restaurant(\"In-N-Out Burger\", \"Burgers\", \"434-3344\", \"Cheeseburger\", 2.50)\n",
    "R11 = Restaurant(\"The Shack\", \"Burgers\", \"333-3334\", \"Hot Link Burger\", 4.50)\n",
    "R12 = Restaurant(\"Gina's\", \"Pizza\", \"334-4433\", \"Combo Pizza\", 12.95)\n",
    "R13 = Restaurant(\"Peacock, Room\", \"Indian\", \"333-4443\", \"Rogan Josh\", 12.50)\n",
    "R14 = Restaurant(\"Gaylord\", \"Indian\", \"333-3433\", \"Tandoori Chicken\", 13.50)\n",
    "R15 = Restaurant(\"Mr. Chow\", \"Chinese\", \"222-3333\", \"Peking Duck\", 24.50)\n",
    "R16 = Restaurant(\"Chez Panisse\", \"California\", \"222-3322\", \"Grilled Duck Breast\", 25.00)\n",
    "R17 = Restaurant(\"Spago\", \"California\", \"333-2222\", \"Striped Bass\", 24.50)\n",
    "R18 = Restaurant(\"Sriped Bass\", \"Seafood\", \"333-2233\", \"Cedar Plank Salmon\", 21.50)\n",
    "R19 = Restaurant(\"Golden Pagoda\", \"Chinese\", \"232-3232\", \"Egg Foo Young\", 8.50)\n",
    "R20 = Restaurant(\"Langer's\", \"Delicatessen\", \"333-2223\", \"Pastrami Sandwich\", 11.50)\n",
    "R21 = Restaurant(\"Nobu\", \"Japanese\", \"335-4433\", \"Natto Temaki\", 5.50)\n",
    "R22 = Restaurant(\"Nonna\", \"Italian\", \"355-4433\", \"Stracotto\", 25.50)\n",
    "R23 = Restaurant(\"Jitlada\", \"Thai\", \"324-4433\", \"Paht Woon Sen\", 15.50)\n",
    "R24 = Restaurant(\"Nola\", \"New Orleans\", \"336-4433\", \"Jambalaya\", 5.50)\n",
    "R25 = Restaurant(\"Noma\", \"Modern Danish\", \"337-4433\", \"Birch Sap\", 35.50)\n",
    "R26 = Restaurant(\"Addis Ababa\", \"Ethiopian\", \"337-4453\", \"Yesiga Tibs\", 10.50) \n",
    "\n",
    "\n",
    "RL = [R1, R2, R3, R4, R5, R6, R7, R8, R9, R10, R11, R12, R13, R14, R15, R16, R17, R18, R19, R20, R21, R22, R23, R24, R25, R26]\n",
    "\n",
    "def select_Cheaper(RL: list, price: float):\n",
    "    newRL = []\n",
    "    for i in RL:\n",
    "        if(i.price <= price):\n",
    "            newRL.append(i)\n",
    "    return newRL        \n",
    "\n",
    "select_Cheaper(RL, 10.00)"
   ]
  },
  {
   "cell_type": "markdown",
   "metadata": {},
   "source": [
    "*** (f.6) Write a function called average_price that takes a list of restaurants and returns the average price of (the best dishes at) those restaurants. (You may wish to write a separate function that takes a list of restaurants and returns the sum of the prices of (the best dishes at) those restaurants. But that's not required.) ***\n",
    "\n"
   ]
  },
  {
   "cell_type": "code",
   "execution_count": 59,
   "metadata": {},
   "outputs": [
    {
     "data": {
      "text/plain": [
       "15.696153846153845"
      ]
     },
     "execution_count": 59,
     "metadata": {},
     "output_type": "execute_result"
    }
   ],
   "source": [
    "from collections import namedtuple\n",
    "\n",
    "Restaurant = namedtuple('Restaurant', 'name cuisine phone dish price')\n",
    "# Restaurant attributes: name, kind of food served, phone number,\n",
    "#\tbest dish, price of that dish\n",
    "\n",
    "R1 = Restaurant(\"Taillevent\", \"French\", \"343-3434\", \"Escargots\", 24.50)\n",
    "R2 = Restaurant(\"La Tour D'Argent\", \"French\", \"343-3344\", \"Ris de Veau\", 48.50)\n",
    "R3 = Restaurant(\"Pascal\", \"French\", \"333-4444\", \"Bouillabaisse\", 32.00)\n",
    "R4 = Restaurant(\"Thai Touch\", \"Thai\", \"444-3333\", \"Mee Krob\", 10.95)\n",
    "R5 = Restaurant(\"Thai Dishes\", \"Thai\", \"333-4433\", \"Paht Woon Sen\",  8.50)\n",
    "R6 = Restaurant(\"Thai Spoon\", \"Thai\", \"334-3344\", \"Mussamun\", 9.00)\n",
    "R7 = Restaurant(\"McDonald's\", \"Burgers\", \"333-4443\", \"Big Mac\", 3.95)\n",
    "R8 = Restaurant(\"Burger King\", \"Burgers\", \"444-3344\", \"Whopper\", 3.75)\n",
    "R9 = Restaurant(\"Wahoo's\", \"Fish Tacos\", \"443-4443\", \"Mahi Mahi Burrito\", 7.50)\n",
    "R10 = Restaurant(\"In-N-Out Burger\", \"Burgers\", \"434-3344\", \"Cheeseburger\", 2.50)\n",
    "R11 = Restaurant(\"The Shack\", \"Burgers\", \"333-3334\", \"Hot Link Burger\", 4.50)\n",
    "R12 = Restaurant(\"Gina's\", \"Pizza\", \"334-4433\", \"Combo Pizza\", 12.95)\n",
    "R13 = Restaurant(\"Peacock, Room\", \"Indian\", \"333-4443\", \"Rogan Josh\", 12.50)\n",
    "R14 = Restaurant(\"Gaylord\", \"Indian\", \"333-3433\", \"Tandoori Chicken\", 13.50)\n",
    "R15 = Restaurant(\"Mr. Chow\", \"Chinese\", \"222-3333\", \"Peking Duck\", 24.50)\n",
    "R16 = Restaurant(\"Chez Panisse\", \"California\", \"222-3322\", \"Grilled Duck Breast\", 25.00)\n",
    "R17 = Restaurant(\"Spago\", \"California\", \"333-2222\", \"Striped Bass\", 24.50)\n",
    "R18 = Restaurant(\"Sriped Bass\", \"Seafood\", \"333-2233\", \"Cedar Plank Salmon\", 21.50)\n",
    "R19 = Restaurant(\"Golden Pagoda\", \"Chinese\", \"232-3232\", \"Egg Foo Young\", 8.50)\n",
    "R20 = Restaurant(\"Langer's\", \"Delicatessen\", \"333-2223\", \"Pastrami Sandwich\", 11.50)\n",
    "R21 = Restaurant(\"Nobu\", \"Japanese\", \"335-4433\", \"Natto Temaki\", 5.50)\n",
    "R22 = Restaurant(\"Nonna\", \"Italian\", \"355-4433\", \"Stracotto\", 25.50)\n",
    "R23 = Restaurant(\"Jitlada\", \"Thai\", \"324-4433\", \"Paht Woon Sen\", 15.50)\n",
    "R24 = Restaurant(\"Nola\", \"New Orleans\", \"336-4433\", \"Jambalaya\", 5.50)\n",
    "R25 = Restaurant(\"Noma\", \"Modern Danish\", \"337-4433\", \"Birch Sap\", 35.50)\n",
    "R26 = Restaurant(\"Addis Ababa\", \"Ethiopian\", \"337-4453\", \"Yesiga Tibs\", 10.50) \n",
    "\n",
    "\n",
    "RL = [R1, R2, R3, R4, R5, R6, R7, R8, R9, R10, R11, R12, R13, R14, R15, R16, R17, R18, R19, R20, R21, R22, R23, R24, R25, R26]\n",
    "\n",
    "def average_price(RL: list):\n",
    "    sum = 0\n",
    "    for i in RL:\n",
    "        sum = sum + i.price\n",
    "    return sum/len(RL)\n",
    "\n",
    "average_price(RL)"
   ]
  },
  {
   "cell_type": "markdown",
   "metadata": {},
   "source": [
    "*** (f.7) Write a print statement that calls one or more of the functions you defined above to print the average price of the Indian restaurants in the list RL. ***\n",
    "\n"
   ]
  },
  {
   "cell_type": "code",
   "execution_count": 60,
   "metadata": {},
   "outputs": [
    {
     "data": {
      "text/plain": [
       "13.0"
      ]
     },
     "execution_count": 60,
     "metadata": {},
     "output_type": "execute_result"
    }
   ],
   "source": [
    "from collections import namedtuple\n",
    "\n",
    "Restaurant = namedtuple('Restaurant', 'name cuisine phone dish price')\n",
    "# Restaurant attributes: name, kind of food served, phone number,\n",
    "#\tbest dish, price of that dish\n",
    "\n",
    "R1 = Restaurant(\"Taillevent\", \"French\", \"343-3434\", \"Escargots\", 24.50)\n",
    "R2 = Restaurant(\"La Tour D'Argent\", \"French\", \"343-3344\", \"Ris de Veau\", 48.50)\n",
    "R3 = Restaurant(\"Pascal\", \"French\", \"333-4444\", \"Bouillabaisse\", 32.00)\n",
    "R4 = Restaurant(\"Thai Touch\", \"Thai\", \"444-3333\", \"Mee Krob\", 10.95)\n",
    "R5 = Restaurant(\"Thai Dishes\", \"Thai\", \"333-4433\", \"Paht Woon Sen\",  8.50)\n",
    "R6 = Restaurant(\"Thai Spoon\", \"Thai\", \"334-3344\", \"Mussamun\", 9.00)\n",
    "R7 = Restaurant(\"McDonald's\", \"Burgers\", \"333-4443\", \"Big Mac\", 3.95)\n",
    "R8 = Restaurant(\"Burger King\", \"Burgers\", \"444-3344\", \"Whopper\", 3.75)\n",
    "R9 = Restaurant(\"Wahoo's\", \"Fish Tacos\", \"443-4443\", \"Mahi Mahi Burrito\", 7.50)\n",
    "R10 = Restaurant(\"In-N-Out Burger\", \"Burgers\", \"434-3344\", \"Cheeseburger\", 2.50)\n",
    "R11 = Restaurant(\"The Shack\", \"Burgers\", \"333-3334\", \"Hot Link Burger\", 4.50)\n",
    "R12 = Restaurant(\"Gina's\", \"Pizza\", \"334-4433\", \"Combo Pizza\", 12.95)\n",
    "R13 = Restaurant(\"Peacock, Room\", \"Indian\", \"333-4443\", \"Rogan Josh\", 12.50)\n",
    "R14 = Restaurant(\"Gaylord\", \"Indian\", \"333-3433\", \"Tandoori Chicken\", 13.50)\n",
    "R15 = Restaurant(\"Mr. Chow\", \"Chinese\", \"222-3333\", \"Peking Duck\", 24.50)\n",
    "R16 = Restaurant(\"Chez Panisse\", \"California\", \"222-3322\", \"Grilled Duck Breast\", 25.00)\n",
    "R17 = Restaurant(\"Spago\", \"California\", \"333-2222\", \"Striped Bass\", 24.50)\n",
    "R18 = Restaurant(\"Sriped Bass\", \"Seafood\", \"333-2233\", \"Cedar Plank Salmon\", 21.50)\n",
    "R19 = Restaurant(\"Golden Pagoda\", \"Chinese\", \"232-3232\", \"Egg Foo Young\", 8.50)\n",
    "R20 = Restaurant(\"Langer's\", \"Delicatessen\", \"333-2223\", \"Pastrami Sandwich\", 11.50)\n",
    "R21 = Restaurant(\"Nobu\", \"Japanese\", \"335-4433\", \"Natto Temaki\", 5.50)\n",
    "R22 = Restaurant(\"Nonna\", \"Italian\", \"355-4433\", \"Stracotto\", 25.50)\n",
    "R23 = Restaurant(\"Jitlada\", \"Thai\", \"324-4433\", \"Paht Woon Sen\", 15.50)\n",
    "R24 = Restaurant(\"Nola\", \"New Orleans\", \"336-4433\", \"Jambalaya\", 5.50)\n",
    "R25 = Restaurant(\"Noma\", \"Modern Danish\", \"337-4433\", \"Birch Sap\", 35.50)\n",
    "R26 = Restaurant(\"Addis Ababa\", \"Ethiopian\", \"337-4453\", \"Yesiga Tibs\", 10.50) \n",
    "\n",
    "\n",
    "RL = [R1, R2, R3, R4, R5, R6, R7, R8, R9, R10, R11, R12, R13, R14, R15, R16, R17, R18, R19, R20, R21, R22, R23, R24, R25, R26]\n",
    "\n",
    "def average_price(RL: list):\n",
    "    sum = 0\n",
    "    count = 0\n",
    "    for i in RL:\n",
    "        if i.cuisine == 'Indian':\n",
    "            sum = sum + i.price\n",
    "            count = count + 1\n",
    "    return sum/count\n",
    "\n",
    "average_price(RL)"
   ]
  },
  {
   "cell_type": "markdown",
   "metadata": {},
   "source": [
    "*** (f.8) Write a print statement that calls one or more of the functions you defined above to print the average price at the Chinese and Thai restaurants (taken as one group) in the list RL. ***\n",
    "\n"
   ]
  },
  {
   "cell_type": "code",
   "execution_count": 61,
   "metadata": {},
   "outputs": [
    {
     "data": {
      "text/plain": [
       "14.75"
      ]
     },
     "execution_count": 61,
     "metadata": {},
     "output_type": "execute_result"
    }
   ],
   "source": [
    "from collections import namedtuple\n",
    "\n",
    "Restaurant = namedtuple('Restaurant', 'name cuisine phone dish price')\n",
    "# Restaurant attributes: name, kind of food served, phone number,\n",
    "#\tbest dish, price of that dish\n",
    "\n",
    "R1 = Restaurant(\"Taillevent\", \"French\", \"343-3434\", \"Escargots\", 24.50)\n",
    "R2 = Restaurant(\"La Tour D'Argent\", \"French\", \"343-3344\", \"Ris de Veau\", 48.50)\n",
    "R3 = Restaurant(\"Pascal\", \"French\", \"333-4444\", \"Bouillabaisse\", 32.00)\n",
    "R4 = Restaurant(\"Thai Touch\", \"Thai\", \"444-3333\", \"Mee Krob\", 10.95)\n",
    "R5 = Restaurant(\"Thai Dishes\", \"Thai\", \"333-4433\", \"Paht Woon Sen\",  8.50)\n",
    "R6 = Restaurant(\"Thai Spoon\", \"Thai\", \"334-3344\", \"Mussamun\", 9.00)\n",
    "R7 = Restaurant(\"McDonald's\", \"Burgers\", \"333-4443\", \"Big Mac\", 3.95)\n",
    "R8 = Restaurant(\"Burger King\", \"Burgers\", \"444-3344\", \"Whopper\", 3.75)\n",
    "R9 = Restaurant(\"Wahoo's\", \"Fish Tacos\", \"443-4443\", \"Mahi Mahi Burrito\", 7.50)\n",
    "R10 = Restaurant(\"In-N-Out Burger\", \"Burgers\", \"434-3344\", \"Cheeseburger\", 2.50)\n",
    "R11 = Restaurant(\"The Shack\", \"Burgers\", \"333-3334\", \"Hot Link Burger\", 4.50)\n",
    "R12 = Restaurant(\"Gina's\", \"Pizza\", \"334-4433\", \"Combo Pizza\", 12.95)\n",
    "R13 = Restaurant(\"Peacock, Room\", \"Indian\", \"333-4443\", \"Rogan Josh\", 12.50)\n",
    "R14 = Restaurant(\"Gaylord\", \"Indian\", \"333-3433\", \"Tandoori Chicken\", 13.50)\n",
    "R15 = Restaurant(\"Mr. Chow\", \"Chinese\", \"222-3333\", \"Peking Duck\", 24.50)\n",
    "R16 = Restaurant(\"Chez Panisse\", \"California\", \"222-3322\", \"Grilled Duck Breast\", 25.00)\n",
    "R17 = Restaurant(\"Spago\", \"California\", \"333-2222\", \"Striped Bass\", 24.50)\n",
    "R18 = Restaurant(\"Sriped Bass\", \"Seafood\", \"333-2233\", \"Cedar Plank Salmon\", 21.50)\n",
    "R19 = Restaurant(\"Golden Pagoda\", \"Chinese\", \"232-3232\", \"Egg Foo Young\", 8.50)\n",
    "R20 = Restaurant(\"Langer's\", \"Delicatessen\", \"333-2223\", \"Pastrami Sandwich\", 11.50)\n",
    "R21 = Restaurant(\"Nobu\", \"Japanese\", \"335-4433\", \"Natto Temaki\", 5.50)\n",
    "R22 = Restaurant(\"Nonna\", \"Italian\", \"355-4433\", \"Stracotto\", 25.50)\n",
    "R23 = Restaurant(\"Jitlada\", \"Thai\", \"324-4433\", \"Paht Woon Sen\", 15.50)\n",
    "R24 = Restaurant(\"Nola\", \"New Orleans\", \"336-4433\", \"Jambalaya\", 5.50)\n",
    "R25 = Restaurant(\"Noma\", \"Modern Danish\", \"337-4433\", \"Birch Sap\", 35.50)\n",
    "R26 = Restaurant(\"Addis Ababa\", \"Ethiopian\", \"337-4453\", \"Yesiga Tibs\", 10.50) \n",
    "\n",
    "\n",
    "RL = [R1, R2, R3, R4, R5, R6, R7, R8, R9, R10, R11, R12, R13, R14, R15, R16, R17, R18, R19, R20, R21, R22, R23, R24, R25, R26]\n",
    "\n",
    "def average_price(RL: list):\n",
    "    sum = 0\n",
    "    count = 0\n",
    "    for i in RL:\n",
    "        if i.cuisine == 'Indian' or i.cuisine == 'Chinese':\n",
    "            sum = sum + i.price\n",
    "            count = count + 1\n",
    "    return sum/count\n",
    "\n",
    "average_price(RL)"
   ]
  },
  {
   "cell_type": "markdown",
   "metadata": {},
   "source": [
    "***(f.9) Write a print statement that calls one or more of the functions you defined above to print a list of the names of all the restaurants in RL with a price under \\$15.00. ***\n",
    "\n"
   ]
  },
  {
   "cell_type": "code",
   "execution_count": 1,
   "metadata": {},
   "outputs": [
    {
     "data": {
      "text/plain": [
       "['Thai Touch',\n",
       " 'Thai Dishes',\n",
       " 'Thai Spoon',\n",
       " \"McDonald's\",\n",
       " 'Burger King',\n",
       " \"Wahoo's\",\n",
       " 'In-N-Out Burger',\n",
       " 'The Shack',\n",
       " \"Gina's\",\n",
       " 'Peacock, Room',\n",
       " 'Gaylord',\n",
       " 'Golden Pagoda',\n",
       " \"Langer's\",\n",
       " 'Nobu',\n",
       " 'Nola',\n",
       " 'Addis Ababa']"
      ]
     },
     "execution_count": 1,
     "metadata": {},
     "output_type": "execute_result"
    }
   ],
   "source": [
    "from collections import namedtuple\n",
    "\n",
    "Restaurant = namedtuple('Restaurant', 'name cuisine phone dish price')\n",
    "# Restaurant attributes: name, kind of food served, phone number,\n",
    "#\tbest dish, price of that dish\n",
    "\n",
    "R1 = Restaurant(\"Taillevent\", \"French\", \"343-3434\", \"Escargots\", 24.50)\n",
    "R2 = Restaurant(\"La Tour D'Argent\", \"French\", \"343-3344\", \"Ris de Veau\", 48.50)\n",
    "R3 = Restaurant(\"Pascal\", \"French\", \"333-4444\", \"Bouillabaisse\", 32.00)\n",
    "R4 = Restaurant(\"Thai Touch\", \"Thai\", \"444-3333\", \"Mee Krob\", 10.95)\n",
    "R5 = Restaurant(\"Thai Dishes\", \"Thai\", \"333-4433\", \"Paht Woon Sen\",  8.50)\n",
    "R6 = Restaurant(\"Thai Spoon\", \"Thai\", \"334-3344\", \"Mussamun\", 9.00)\n",
    "R7 = Restaurant(\"McDonald's\", \"Burgers\", \"333-4443\", \"Big Mac\", 3.95)\n",
    "R8 = Restaurant(\"Burger King\", \"Burgers\", \"444-3344\", \"Whopper\", 3.75)\n",
    "R9 = Restaurant(\"Wahoo's\", \"Fish Tacos\", \"443-4443\", \"Mahi Mahi Burrito\", 7.50)\n",
    "R10 = Restaurant(\"In-N-Out Burger\", \"Burgers\", \"434-3344\", \"Cheeseburger\", 2.50)\n",
    "R11 = Restaurant(\"The Shack\", \"Burgers\", \"333-3334\", \"Hot Link Burger\", 4.50)\n",
    "R12 = Restaurant(\"Gina's\", \"Pizza\", \"334-4433\", \"Combo Pizza\", 12.95)\n",
    "R13 = Restaurant(\"Peacock, Room\", \"Indian\", \"333-4443\", \"Rogan Josh\", 12.50)\n",
    "R14 = Restaurant(\"Gaylord\", \"Indian\", \"333-3433\", \"Tandoori Chicken\", 13.50)\n",
    "R15 = Restaurant(\"Mr. Chow\", \"Chinese\", \"222-3333\", \"Peking Duck\", 24.50)\n",
    "R16 = Restaurant(\"Chez Panisse\", \"California\", \"222-3322\", \"Grilled Duck Breast\", 25.00)\n",
    "R17 = Restaurant(\"Spago\", \"California\", \"333-2222\", \"Striped Bass\", 24.50)\n",
    "R18 = Restaurant(\"Sriped Bass\", \"Seafood\", \"333-2233\", \"Cedar Plank Salmon\", 21.50)\n",
    "R19 = Restaurant(\"Golden Pagoda\", \"Chinese\", \"232-3232\", \"Egg Foo Young\", 8.50)\n",
    "R20 = Restaurant(\"Langer's\", \"Delicatessen\", \"333-2223\", \"Pastrami Sandwich\", 11.50)\n",
    "R21 = Restaurant(\"Nobu\", \"Japanese\", \"335-4433\", \"Natto Temaki\", 5.50)\n",
    "R22 = Restaurant(\"Nonna\", \"Italian\", \"355-4433\", \"Stracotto\", 25.50)\n",
    "R23 = Restaurant(\"Jitlada\", \"Thai\", \"324-4433\", \"Paht Woon Sen\", 15.50)\n",
    "R24 = Restaurant(\"Nola\", \"New Orleans\", \"336-4433\", \"Jambalaya\", 5.50)\n",
    "R25 = Restaurant(\"Noma\", \"Modern Danish\", \"337-4433\", \"Birch Sap\", 35.50)\n",
    "R26 = Restaurant(\"Addis Ababa\", \"Ethiopian\", \"337-4453\", \"Yesiga Tibs\", 10.50) \n",
    "\n",
    "\n",
    "RL = [R1, R2, R3, R4, R5, R6, R7, R8, R9, R10, R11, R12, R13, R14, R15, R16, R17, R18, R19, R20, R21, R22, R23, R24, R25, R26]\n",
    "\n",
    "def select_Cheaper(RL: list, price: float):\n",
    "    newRL = []\n",
    "    for i in RL:\n",
    "        if(i.price <= price):\n",
    "            newRL.append(i.name)\n",
    "    return newRL        \n",
    "\n",
    "select_Cheaper(RL, 15.00)"
   ]
  },
  {
   "cell_type": "code",
   "execution_count": null,
   "metadata": {},
   "outputs": [],
   "source": []
  }
 ],
 "metadata": {
  "kernelspec": {
   "display_name": "Python 3.6",
   "language": "python",
   "name": "python36"
  },
  "language_info": {
   "codemirror_mode": {
    "name": "ipython",
    "version": 3
   },
   "file_extension": ".py",
   "mimetype": "text/x-python",
   "name": "python",
   "nbconvert_exporter": "python",
   "pygments_lexer": "ipython3",
   "version": "3.6.3"
  }
 },
 "nbformat": 4,
 "nbformat_minor": 2
}

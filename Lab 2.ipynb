{
 "cells": [
  {
   "cell_type": "markdown",
   "metadata": {
    "collapsed": true
   },
   "source": [
    "### 1. In class we have written Python code similar to this:\n",
    "\n",
    "print('How many hours?') <br>\n",
    "hours = float(input())<br>\n",
    "print('This many hours:', hours)<br>\n",
    "print('How many dollars per hour?')<br>\n",
    "rate = float(input())<br>\n",
    "print('This many dollars per hour:  ', rate)<br>\n",
    "print('Weekly salary:  ', hours * rate)<br>\n",
    "\n",
    "<font color = blue>***(c.1)*** Copy this code and paste it into your lab2.py file; then run it to make sure it works as you expect.<br></font>\n",
    "\n",
    "Then modify the code as shown below to reflect the alternate form of the input() function (with the \"input prompt\" string as an argument to the function). Run it, of course. Do you see the difference (i) in how it behaves and (ii) in how you write the code? Sometimes we prefer this alternative, sometimes we prefer the other, depending mostly on how we want our program to behave; neither one is the best in every case.\n",
    "\n",
    "hours = int(input('How many hours?'))<br>\n",
    "print('This many hours:', hours)<br>\n",
    "rate = float(input('How many dollars per hour?'))<br>\n",
    "print('This many dollars per hour:  ', rate)<br>\n",
    "print('Weekly salary:  ', hours * rate)<br>\n",
    "\n",
    "Then modify the code to print a dollar sign before each dollar amount. (For now, don't worry about the precise spacing or the precise number of digits after the decimal point; we'll learn how to specify those later.)\n",
    "\n"
   ]
  },
  {
   "cell_type": "code",
   "execution_count": 2,
   "metadata": {},
   "outputs": [
    {
     "name": "stdout",
     "output_type": "stream",
     "text": [
      "How many hours?\n",
      "10\n",
      "This many hours: 10.0\n",
      "How many dollars per hour? \n",
      "11.5\n",
      "This many dollars per hour: $ 11.5\n",
      "Weekly salary: $ 115.0\n"
     ]
    }
   ],
   "source": [
    "print('How many hours?') \n",
    "hours = float(input())\n",
    "print('This many hours:', hours)\n",
    "print('How many dollars per hour? ')\n",
    "rate = float(input())\n",
    "print('This many dollars per hour: $', rate)\n",
    "print('Weekly salary: $', hours * rate)"
   ]
  },
  {
   "cell_type": "code",
   "execution_count": 3,
   "metadata": {},
   "outputs": [
    {
     "name": "stdout",
     "output_type": "stream",
     "text": [
      "How many hours?10\n",
      "This many hours: 10\n",
      "How many dollars per hour? $11.5\n",
      "This many dollars per hour: $ 11.5\n",
      "Weekly salary: $ 115.0\n"
     ]
    }
   ],
   "source": [
    "hours = int(input('How many hours?'))\n",
    "print('This many hours:', hours)\n",
    "rate = float(input('How many dollars per hour? $'))\n",
    "print('This many dollars per hour: $', rate)\n",
    "print('Weekly salary: $', hours * rate)"
   ]
  },
  {
   "cell_type": "markdown",
   "metadata": {},
   "source": [
    "<font color = blue> (c.2) Write a new sequence of statements that, when executed, might produce results that look like this (where the bold-faced text would by typed by the user): </font>\n",
    "\n",
    "Hello.  What is your name?  __Alice Anteater__ <br>\n",
    "Hello, Alice Anteater<br>\n",
    "It's nice to meet you.  <br>\n",
    "How old are you?  __19__ <br>\n",
    "Next year you will be 20 years old.<br>\n",
    "Good-bye!<br>\n",
    "\n",
    "The foregoing may be enough to get you going on this problem. But here are a couple of tips and bits of advice that may help give you a boost: <br>\n",
    "\n",
    "- The code you write should ask the user for a name and age. That is, the code should work, without any change, no matter what name and age the user types. This is called writing code that is general (in the sense of general-purpose); the same code works with any reasonable data. The opposite would be code that includes Alice Anteater's actual name and the age 19 in the Python code itself, so that the code would always print out the same thing (Alice Anteater's information) every time. That's called hard-coded data, and it's much less flexible and useful. We'll see situations where hard-coding certain constants is the right approach, but this isn't one of them.\n",
    "- One key approach to writing a program is to base it on a similar program that you already have. (Even professional programmers do this; professional development environments contain pre-written frameworks for different kinds of tasks and the internet is full of open-source code repositories that professionals can use to avoid reinventing the wheel.) In this case, you can start with the salary code you copied and pasted earlier. It contains nearly all the elements you need to do the name-and-age task; you just need to reassemble them and change the words to produce the new behavior."
   ]
  },
  {
   "cell_type": "code",
   "execution_count": 4,
   "metadata": {},
   "outputs": [
    {
     "name": "stdout",
     "output_type": "stream",
     "text": [
      "Hello. What is your name?Tam Huynh\n",
      "Hello, Tam Huynh\n",
      "It's nice to meet you.\n",
      "How old are you?25\n",
      "Next year you will be 26 years old.\n",
      "Good bye\n"
     ]
    }
   ],
   "source": [
    "name = str(input(\"Hello. What is your name?\"))\n",
    "print(\"Hello,\", name)\n",
    "print(\"It's nice to meet you.\")\n",
    "age = int(input(\"How old are you?\"))\n",
    "print(\"Next year you will be\", age+1, \"years old.\")\n",
    "print(\"Good bye\")"
   ]
  },
  {
   "cell_type": "markdown",
   "metadata": {},
   "source": [
    "### 2. The Copenhagen Chamber of Commerce has hired you to write a program that will convert foreign currencies to the equivalent amount in Danish krone. Your program will prompt the user to input four items, in this order: The name of the business using the program, the number of Euros that business has, the number of British pounds, and the number of U.S. dollars.\n",
    "<br>\n",
    "Your program will produce as output the business name, a list of how much of each currency the business has (in both the foreign amount and the Danish krone equivalent) with one foreign currency per line, and the business's total amount of money in krone. <br>\n",
    "\n",
    "Assume that the following exchange rates are in effect: <br> \n",
    "\n",
    "One Euro is 7.46 krone, <br> \n",
    "One British pound is 8.60 krone,  <br> \n",
    "One U.S. dollar is 6.62 krone. <br>\n",
    "\n",
    "[Implementation note: This is one of those situations where hard-coding constants is appropriate, since our program is not going to look up the actual exchange rates on the internet. (That may be something you'll do in ICS 32, though.) At the top of your Python code you should have three assignment statements that define these constants; they should look like this: KRONE_PER_EURO = 7.46 . Then you will use those defined constants where appropriate in your program's calculations.] <br>\n",
    "\n",
    "For example, if the business name is Tycho Brahe Enterprises and it has €100, £200, and $1000, the displayed results would be as shown below (with the user's input shown in boldface): <br>\n",
    "\n",
    "Please provide this information:<br>\n",
    "Business name:  Tycho Brahe Enterprises<br>\n",
    "Number of euros:  100<br>\n",
    "Number of pounds:  200<br>\n",
    "Number of dollars:  1000<br>\n",
    "\n",
    "Copenhagen Chamber of Commerce<br>\n",
    "Business name:   Tycho Brahe Enterprises<br>\n",
    "100 euros is 746.0 krone<br>\n",
    "200 pounds is 1720.0 krone<br>\n",
    "1000 dollars is 6620.0 krone<br>\n",
    "\n",
    "Total krone:   9086.0<br>\n",
    "(Don't worry about the precise spacing or number of digits after the decimal point; we'll learn how to control that later on.)"
   ]
  },
  {
   "cell_type": "code",
   "execution_count": 8,
   "metadata": {},
   "outputs": [
    {
     "name": "stdout",
     "output_type": "stream",
     "text": [
      "Please provide this information:\n",
      "Business Name: Tycho Brahe Enterprises\n",
      "Number of euros: 100\n",
      "Number of pounds: 200\n",
      "Number of dollars: 1000\n",
      "\n",
      "Copenhagen Chamber of Commerce\n",
      "Business name: Tycho Brahe Enterprises\n",
      "100 euros is 746.0\n",
      "200 pounds is 1720.0\n",
      "1000 dollars is 6620.0\n",
      "Total krone: 9086.0\n"
     ]
    }
   ],
   "source": [
    "KRONE_PER_EURO = 7.46\n",
    "KRONE_PER_DOLLAR = 6.62\n",
    "KRONE_PER_POUND = 8.60\n",
    "\n",
    "print(\"Please provide this information:\")\n",
    "name = str(input(\"Business Name: \"))\n",
    "euro = int(input(\"Number of euros: \"))\n",
    "pound = int(input(\"Number of pounds: \"))\n",
    "dollar = int(input(\"Number of dollars: \"))\n",
    "\n",
    "print(\"\\nCopenhagen Chamber of Commerce\")\n",
    "print(\"Business name:\", name)\n",
    "print(euro, \"euros is\", euro * KRONE_PER_EURO)\n",
    "print(pound, \"pounds is\", pound * KRONE_PER_POUND)\n",
    "print(dollar, \"dollars is\", dollar * KRONE_PER_DOLLAR)\n",
    "\n",
    "print(\"Total krone:\", euro * KRONE_PER_EURO + pound * KRONE_PER_POUND + dollar * KRONE_PER_DOLLAR)"
   ]
  },
  {
   "cell_type": "markdown",
   "metadata": {},
   "source": [
    "### 3. Start with this code (which you may copy and paste into your file to work with):\n",
    "\n",
    "from collections import namedtuple <br>\n",
    "Book = namedtuple('Book', 'title author year price')<br>\n",
    "favorite = Book('Adventures of Sherlock Holmes', 'Arthur Conan Doyle', 1892, 21.50)<br>\n",
    "another = Book('Memoirs of Sherlock Holmes', 'Arthur Conan Doyle', 1894, 23.50)<br>\n",
    "still_another = Book('Return of Sherlock Holmes', 'Arthur Conan Doyle', 1905, 25.00)<br>\n",
    "Write expressions using the variables favorite, another, and still_another that evaluate to each of the following; then print (the value of) each expression:<br>"
   ]
  },
  {
   "cell_type": "markdown",
   "metadata": {},
   "source": [
    "<font color=blue> The title of the book in the variable  still_another .</font>\n",
    "\n"
   ]
  },
  {
   "cell_type": "code",
   "execution_count": 23,
   "metadata": {},
   "outputs": [
    {
     "name": "stdout",
     "output_type": "stream",
     "text": [
      "Return of Sherlock Holmes\n"
     ]
    }
   ],
   "source": [
    "from collections import namedtuple \n",
    "Book = namedtuple('Book', 'title author year price')\n",
    "favorite = Book('Adventures of Sherlock Holmes', 'Arthur Conan Doyle', 1892, 21.50)\n",
    "another = Book('Memoirs of Sherlock Holmes', 'Arthur Conan Doyle', 1894, 23.50)\n",
    "still_another = Book('Return of Sherlock Holmes', 'Arthur Conan Doyle', 1905, 25.00)\n",
    "all = [favorite, another, still_another]\n",
    "print(still_another.title)"
   ]
  },
  {
   "cell_type": "markdown",
   "metadata": {},
   "source": [
    "<font color=blue>The price of the book Memoirs of Sherlock Holmes </font>"
   ]
  },
  {
   "cell_type": "code",
   "execution_count": 24,
   "metadata": {},
   "outputs": [
    {
     "name": "stdout",
     "output_type": "stream",
     "text": [
      "23.5\n"
     ]
    }
   ],
   "source": [
    "from collections import namedtuple \n",
    "Book = namedtuple('Book', 'title author year price')\n",
    "favorite = Book('Adventures of Sherlock Holmes', 'Arthur Conan Doyle', 1892, 21.50)\n",
    "another = Book('Memoirs of Sherlock Holmes', 'Arthur Conan Doyle', 1894, 23.50)\n",
    "still_another = Book('Return of Sherlock Holmes', 'Arthur Conan Doyle', 1905, 25.00)\n",
    "all = [favorite, another, still_another]\n",
    "print(another.price)"
   ]
  },
  {
   "cell_type": "markdown",
   "metadata": {},
   "source": [
    "<font color = blue>The average price of all three books </font>"
   ]
  },
  {
   "cell_type": "code",
   "execution_count": 28,
   "metadata": {},
   "outputs": [
    {
     "name": "stdout",
     "output_type": "stream",
     "text": [
      "The average price of all three books: $ 23.33\n"
     ]
    }
   ],
   "source": [
    "from collections import namedtuple \n",
    "Book = namedtuple('Book', 'title author year price')\n",
    "favorite = Book('Adventures of Sherlock Holmes', 'Arthur Conan Doyle', 1892, 21.50)\n",
    "another = Book('Memoirs of Sherlock Holmes', 'Arthur Conan Doyle', 1894, 23.50)\n",
    "still_another = Book('Return of Sherlock Holmes', 'Arthur Conan Doyle', 1905, 25.00)\n",
    "all = [favorite, another, still_another]\n",
    "sum = 0\n",
    "for i in all:\n",
    "    sum = sum + i.price\n",
    "    \n",
    "print(\"The average price of all three books: $\", format(sum/3, \".2f\"))"
   ]
  },
  {
   "cell_type": "markdown",
   "metadata": {},
   "source": [
    "<font color = blue> True or false, based on whether the publication year of the book in the variable favorite is before 1900. </font>"
   ]
  },
  {
   "cell_type": "code",
   "execution_count": 30,
   "metadata": {},
   "outputs": [
    {
     "name": "stdout",
     "output_type": "stream",
     "text": [
      "True\n"
     ]
    }
   ],
   "source": [
    "from collections import namedtuple \n",
    "Book = namedtuple('Book', 'title author year price')\n",
    "favorite = Book('Adventures of Sherlock Holmes', 'Arthur Conan Doyle', 1892, 21.50)\n",
    "another = Book('Memoirs of Sherlock Holmes', 'Arthur Conan Doyle', 1894, 23.50)\n",
    "still_another = Book('Return of Sherlock Holmes', 'Arthur Conan Doyle', 1905, 25.00)\n",
    "all = [favorite, another, still_another]\n",
    "print(favorite.year < 1900)"
   ]
  },
  {
   "cell_type": "markdown",
   "metadata": {},
   "source": [
    "<font color = blue> Next, write two assignment statements [until next week's class, the way to do this is to create a new Book object based on the old one (except for the field you're changing)]:  <br>\n",
    "-  Change the price of the book Return of Sherlock Holmes to $26.00 <br>\n",
    "- Change the price of the book Return of Sherlock Holmes by increasing it 20% (over whatever its current price is)\n",
    "</font>"
   ]
  },
  {
   "cell_type": "code",
   "execution_count": 37,
   "metadata": {},
   "outputs": [
    {
     "name": "stdout",
     "output_type": "stream",
     "text": [
      "Book(title='Return of Sherlock Holmes', author='Arthur Conan Doyle', year=1905, price=26.0)\n",
      "Book(title='Return of Sherlock Holmes', author='Arthur Conan Doyle', year=1905, price=31.2)\n"
     ]
    }
   ],
   "source": [
    "from collections import namedtuple \n",
    "Book = namedtuple('Book', 'title author year price')\n",
    "favorite = Book('Adventures of Sherlock Holmes', 'Arthur Conan Doyle', 1892, 21.50)\n",
    "another = Book('Memoirs of Sherlock Holmes', 'Arthur Conan Doyle', 1894, 23.50)\n",
    "still_another = Book('Return of Sherlock Holmes', 'Arthur Conan Doyle', 1905, 25.00)\n",
    "still_another = Book('Return of Sherlock Holmes', 'Arthur Conan Doyle', 1905, 26.00)\n",
    "print(still_another)\n",
    "still_another = Book('Return of Sherlock Holmes', 'Arthur Conan Doyle', 1905, 1.2 *26.00)\n",
    "print(still_another)"
   ]
  },
  {
   "cell_type": "markdown",
   "metadata": {},
   "source": [
    "### 4. Define a namedtuple called Animal for animals in a zoo, with fields for the animal's name, its species, its age, its weight, and its favorite food. <br>\n",
    "\n",
    "Then define variables to hold (i) an elephant called Jumbo that's 50 years old, weighs 1000 kg, and eats peanuts, and (ii) a platypus named Perry that's 7 years old, weighs 1.7 kg, and eats shrimp.<br>\n",
    "\n",
    "Finally, write a boolean expression whose value is true if the weight of the animal represented by the first variable is less than the weight of the animal represented by the second variable.<br>\n",
    "\n",
    "You might be asking yourself why it's useful to write an expression like that when we know from looking at the data that Jumbo weighs more than Perry. The answer is that variables can vary; that is, we might have a program where different animals, or different weights for the same animals, get stored in the variables you defined. Because the expression you wrote uses whatever value the variable currently has, we can re-use that same expression for whatever animals we want, so long as we store those animals' information in the variables you defined and used in your expression. It's good to write general, versatile code like this."
   ]
  },
  {
   "cell_type": "code",
   "execution_count": 40,
   "metadata": {},
   "outputs": [
    {
     "name": "stdout",
     "output_type": "stream",
     "text": [
      "False\n"
     ]
    }
   ],
   "source": [
    "from collections import namedtuple \n",
    "Animal = namedtuple('Animal', 'name species age weight food')\n",
    "Jumbo = Animal('Jumbo','Elephant', 50, 1000, 'peanuts')\n",
    "Perry = Animal('Perry', 'Platypus', 7, 1.7, 'shrimp')\n",
    "print(Jumbo.weight < Perry.weight)"
   ]
  },
  {
   "cell_type": "markdown",
   "metadata": {},
   "source": [
    "### 5. Add this statement to your book code:\n",
    "\n",
    "booklist = [favorite, another, still_another]"
   ]
  },
  {
   "cell_type": "markdown",
   "metadata": {},
   "source": [
    "<font color = blue>\n",
    "    Write a boolean expression whose value is true if the first book on the list [remember what the index number of the first book is] is cheaper than the second book on the list (and false otherwise). (In your lab2.py file, just print this expression.) </font>\n",
    "\n",
    "\n"
   ]
  },
  {
   "cell_type": "code",
   "execution_count": 6,
   "metadata": {},
   "outputs": [
    {
     "data": {
      "text/plain": [
       "True"
      ]
     },
     "execution_count": 6,
     "metadata": {},
     "output_type": "execute_result"
    }
   ],
   "source": [
    "from collections import namedtuple \n",
    "Book = namedtuple('Book', 'title author year price')\n",
    "favorite = Book('Adventures of Sherlock Holmes', 'Arthur Conan Doyle', 1892, 21.50)\n",
    "another = Book('Memoirs of Sherlock Holmes', 'Arthur Conan Doyle', 1894, 23.50)\n",
    "still_another = Book('Return of Sherlock Holmes', 'Arthur Conan Doyle', 1905, 25.00)\n",
    "booklist = [favorite, another, still_another]\n",
    "booklist[0].price < booklist[1].price"
   ]
  },
  {
   "cell_type": "markdown",
   "metadata": {},
   "source": [
    "<font color=blue> Write (and print) another boolean expression whose value is true if the first book on the list is more recently published than the last book on the list. Don't write this using booklist[2] for the last book; instead, use an expression whose value would be the last book on the list, no matter how long the list is.\n",
    "\n"
   ]
  },
  {
   "cell_type": "code",
   "execution_count": 8,
   "metadata": {},
   "outputs": [
    {
     "data": {
      "text/plain": [
       "False"
      ]
     },
     "execution_count": 8,
     "metadata": {},
     "output_type": "execute_result"
    }
   ],
   "source": [
    "from collections import namedtuple \n",
    "Book = namedtuple('Book', 'title author year price')\n",
    "favorite = Book('Adventures of Sherlock Holmes', 'Arthur Conan Doyle', 1892, 21.50)\n",
    "another = Book('Memoirs of Sherlock Holmes', 'Arthur Conan Doyle', 1894, 23.50)\n",
    "still_another = Book('Return of Sherlock Holmes', 'Arthur Conan Doyle', 1905, 25.00)\n",
    "booklist = [favorite, another, still_another]\n",
    "booklist[0].year > booklist[-1].year"
   ]
  },
  {
   "cell_type": "markdown",
   "metadata": {},
   "source": [
    "### 6. In class we discussed how a programming language gives us predefined or built-in \"building blocks\" (like ints and strings, and like + and len()) and then gives us ways to combine them into more complicated and powerful features that we can use as we develop our software. Namedtuples are an example of this; after we create a Book, our version of Python has a new type of data we can use in our programs. <br>\n",
    "\n",
    "One theme of this course is how we can build and work with data structures in this way. <br>\n",
    "\n",
    "Here we create a list of seven restaurants, calling it RC (for \"restaurant collection\"). Copy this code into your lab2.py file. <br>\n",
    "\n",
    "```python\n",
    "from collections import namedtuple     # If this line is in your file already, you don't need it again <br>\n",
    "Restaurant = namedtuple('Restaurant', 'name cuisine phone dish price') \n",
    "# Restaurant attributes: name, kind of food served, phone number, best dish, price of that dish\n",
    "RC = [\n",
    "    Restaurant(\"Thai Dishes\", \"Thai\", \"334-4433\", \"Mee Krob\", 12.50),\n",
    "    Restaurant(\"Nobu\", \"Japanese\", \"335-4433\", \"Natto Temaki\", 5.50),\n",
    "    Restaurant(\"Nonna\", \"Italian\", \"355-4433\", \"Stracotto\", 25.50),\n",
    "    Restaurant(\"Jitlada\", \"Thai\", \"324-4433\", \"Paht Woon Sen\", 15.50),\n",
    "    Restaurant(\"Nola\", \"New Orleans\", \"336-4433\", \"Jambalaya\", 5.50),\n",
    "    Restaurant(\"Noma\", \"Modern Danish\", \"337-4433\", \"Birch Sap\", 35.50),\n",
    "    Restaurant(\"Addis Ababa\", \"Ethiopian\", \"337-4453\", \"Yesiga Tibs\", 10.50) ]\n",
    "```\n",
    "\n",
    "For each of the values described below, write a Python expression using RC that produces that value (and enclose it in a print statement in your lab2.py file). [Treat each problem separately, assuming only that you have the definitions above and not the results of the previous problems here in part (h).]"
   ]
  },
  {
   "cell_type": "markdown",
   "metadata": {},
   "source": [
    "<font color = blue> The name of the third restaurant on the list (remember that the third restaurant is not number 3)"
   ]
  },
  {
   "cell_type": "code",
   "execution_count": 10,
   "metadata": {},
   "outputs": [
    {
     "name": "stdout",
     "output_type": "stream",
     "text": [
      "Name of the third restaurant on the list: Nonna\n"
     ]
    }
   ],
   "source": [
    "from collections import namedtuple     # If this line is in your file already, you don't need it again <br>\n",
    "Restaurant = namedtuple('Restaurant', 'name cuisine phone dish price') \n",
    "# Restaurant attributes: name, kind of food served, phone number, best dish, price of that dish\n",
    "RC = [\n",
    "    Restaurant(\"Thai Dishes\", \"Thai\", \"334-4433\", \"Mee Krob\", 12.50),\n",
    "    Restaurant(\"Nobu\", \"Japanese\", \"335-4433\", \"Natto Temaki\", 5.50),\n",
    "    Restaurant(\"Nonna\", \"Italian\", \"355-4433\", \"Stracotto\", 25.50),\n",
    "    Restaurant(\"Jitlada\", \"Thai\", \"324-4433\", \"Paht Woon Sen\", 15.50),\n",
    "    Restaurant(\"Nola\", \"New Orleans\", \"336-4433\", \"Jambalaya\", 5.50),\n",
    "    Restaurant(\"Noma\", \"Modern Danish\", \"337-4433\", \"Birch Sap\", 35.50),\n",
    "    Restaurant(\"Addis Ababa\", \"Ethiopian\", \"337-4453\", \"Yesiga Tibs\", 10.50) ]\n",
    "print(\"Name of the third restaurant on the list:\", RC[2].name)"
   ]
  },
  {
   "cell_type": "markdown",
   "metadata": {},
   "source": [
    "<font color = Blue> True or False, whether the first and the fourth restaurants serve the same kind of food"
   ]
  },
  {
   "cell_type": "code",
   "execution_count": 11,
   "metadata": {},
   "outputs": [
    {
     "name": "stdout",
     "output_type": "stream",
     "text": [
      "True or False, whether the first and the fourth restaurants serve the same kind of food: True\n"
     ]
    }
   ],
   "source": [
    "from collections import namedtuple     # If this line is in your file already, you don't need it again <br>\n",
    "Restaurant = namedtuple('Restaurant', 'name cuisine phone dish price') \n",
    "# Restaurant attributes: name, kind of food served, phone number, best dish, price of that dish\n",
    "RC = [\n",
    "    Restaurant(\"Thai Dishes\", \"Thai\", \"334-4433\", \"Mee Krob\", 12.50),\n",
    "    Restaurant(\"Nobu\", \"Japanese\", \"335-4433\", \"Natto Temaki\", 5.50),\n",
    "    Restaurant(\"Nonna\", \"Italian\", \"355-4433\", \"Stracotto\", 25.50),\n",
    "    Restaurant(\"Jitlada\", \"Thai\", \"324-4433\", \"Paht Woon Sen\", 15.50),\n",
    "    Restaurant(\"Nola\", \"New Orleans\", \"336-4433\", \"Jambalaya\", 5.50),\n",
    "    Restaurant(\"Noma\", \"Modern Danish\", \"337-4433\", \"Birch Sap\", 35.50),\n",
    "    Restaurant(\"Addis Ababa\", \"Ethiopian\", \"337-4453\", \"Yesiga Tibs\", 10.50) ]\n",
    "print(\"True or False, whether the first and the fourth restaurants serve the same kind of food:\", RC[0].cuisine == RC[3].cuisine)"
   ]
  },
  {
   "cell_type": "markdown",
   "metadata": {},
   "source": [
    "<font color = blue> The price of (the best dish at) the last restaurant on the list (write this one so that it works for lists of any length, not just 7)"
   ]
  },
  {
   "cell_type": "code",
   "execution_count": 13,
   "metadata": {},
   "outputs": [
    {
     "name": "stdout",
     "output_type": "stream",
     "text": [
      "The price of the last restaurant on the list: $ 10.5\n"
     ]
    }
   ],
   "source": [
    "from collections import namedtuple     # If this line is in your file already, you don't need it again <br>\n",
    "Restaurant = namedtuple('Restaurant', 'name cuisine phone dish price') \n",
    "# Restaurant attributes: name, kind of food served, phone number, best dish, price of that dish\n",
    "RC = [\n",
    "    Restaurant(\"Thai Dishes\", \"Thai\", \"334-4433\", \"Mee Krob\", 12.50),\n",
    "    Restaurant(\"Nobu\", \"Japanese\", \"335-4433\", \"Natto Temaki\", 5.50),\n",
    "    Restaurant(\"Nonna\", \"Italian\", \"355-4433\", \"Stracotto\", 25.50),\n",
    "    Restaurant(\"Jitlada\", \"Thai\", \"324-4433\", \"Paht Woon Sen\", 15.50),\n",
    "    Restaurant(\"Nola\", \"New Orleans\", \"336-4433\", \"Jambalaya\", 5.50),\n",
    "    Restaurant(\"Noma\", \"Modern Danish\", \"337-4433\", \"Birch Sap\", 35.50),\n",
    "    Restaurant(\"Addis Ababa\", \"Ethiopian\", \"337-4453\", \"Yesiga Tibs\", 10.50) ]\n",
    "print(\"The price of the last restaurant on the list: $\", RC[-1].price)"
   ]
  },
  {
   "cell_type": "markdown",
   "metadata": {},
   "source": [
    "<font color=blue> The list of restaurants, arranged alphabetically by restaurant name (you'll need one statement before the print statement; this involves the sort() method for lists)."
   ]
  },
  {
   "cell_type": "code",
   "execution_count": 56,
   "metadata": {},
   "outputs": [
    {
     "name": "stdout",
     "output_type": "stream",
     "text": [
      "The list of restaurants, arranged alphabetically by restaurant name: Addis Ababa, Jitlada, Nobu, Nola, Noma, Nonna, Thai Dishes\n"
     ]
    }
   ],
   "source": [
    "from collections import namedtuple     # If this line is in your file already, you don't need it again <br>\n",
    "Restaurant = namedtuple('Restaurant', 'name cuisine phone dish price') \n",
    "# Restaurant attributes: name, kind of food served, phone number, best dish, price of that dish\n",
    "RC = [\n",
    "    Restaurant(\"Thai Dishes\", \"Thai\", \"334-4433\", \"Mee Krob\", 12.50),\n",
    "    Restaurant(\"Nobu\", \"Japanese\", \"335-4433\", \"Natto Temaki\", 5.50),\n",
    "    Restaurant(\"Nonna\", \"Italian\", \"355-4433\", \"Stracotto\", 25.50),\n",
    "    Restaurant(\"Jitlada\", \"Thai\", \"324-4433\", \"Paht Woon Sen\", 15.50),\n",
    "    Restaurant(\"Nola\", \"New Orleans\", \"336-4433\", \"Jambalaya\", 5.50),\n",
    "    Restaurant(\"Noma\", \"Modern Danish\", \"337-4433\", \"Birch Sap\", 35.50),\n",
    "    Restaurant(\"Addis Ababa\", \"Ethiopian\", \"337-4453\", \"Yesiga Tibs\", 10.50) ]\n",
    "RC.sort()\n",
    "print(\"The list of restaurants, arranged alphabetically by restaurant name:\", end = \" \")\n",
    "for i in range(0, len(RC)-1):\n",
    "    print(RC[i].name, end = \", \")\n",
    "print(RC[-1].name)"
   ]
  },
  {
   "cell_type": "markdown",
   "metadata": {},
   "source": [
    "<font color=blue> The best dish at the restaurant whose name is alphabetically last; in other words, the dish field of the last restaurant in the list of restaurants sorted alphabetically by name (you'll need an extra statement here, too; your solution should work for lists of any length)."
   ]
  },
  {
   "cell_type": "code",
   "execution_count": 57,
   "metadata": {},
   "outputs": [
    {
     "name": "stdout",
     "output_type": "stream",
     "text": [
      "The best dish at the restaurant whose name is alphabetically last:  Thai\n"
     ]
    }
   ],
   "source": [
    "from collections import namedtuple     # If this line is in your file already, you don't need it again <br>\n",
    "Restaurant = namedtuple('Restaurant', 'name cuisine phone dish price') \n",
    "# Restaurant attributes: name, kind of food served, phone number, best dish, price of that dish\n",
    "RC = [\n",
    "    Restaurant(\"Thai Dishes\", \"Thai\", \"334-4433\", \"Mee Krob\", 12.50),\n",
    "    Restaurant(\"Nobu\", \"Japanese\", \"335-4433\", \"Natto Temaki\", 5.50),\n",
    "    Restaurant(\"Nonna\", \"Italian\", \"355-4433\", \"Stracotto\", 25.50),\n",
    "    Restaurant(\"Jitlada\", \"Thai\", \"324-4433\", \"Paht Woon Sen\", 15.50),\n",
    "    Restaurant(\"Nola\", \"New Orleans\", \"336-4433\", \"Jambalaya\", 5.50),\n",
    "    Restaurant(\"Noma\", \"Modern Danish\", \"337-4433\", \"Birch Sap\", 35.50),\n",
    "    Restaurant(\"Addis Ababa\", \"Ethiopian\", \"337-4453\", \"Yesiga Tibs\", 10.50) ]\n",
    "RC.sort()\n",
    "print(\"The best dish at the restaurant whose name is alphabetically last: \", RC[-1].cuisine)"
   ]
  },
  {
   "cell_type": "markdown",
   "metadata": {},
   "source": [
    "<font color = blue> A new list containing 4 restaurants: the first two alphabetically and the last two alphabetically (this one should work for lists of any length; you may need a couple of extra statements and the sort() or the extend() method [see help(list)])"
   ]
  },
  {
   "cell_type": "code",
   "execution_count": 65,
   "metadata": {},
   "outputs": [
    {
     "name": "stdout",
     "output_type": "stream",
     "text": [
      "[Restaurant(name='Addis Ababa', cuisine='Ethiopian', phone='337-4453', dish='Yesiga Tibs', price=10.5), Restaurant(name='Jitlada', cuisine='Thai', phone='324-4433', dish='Paht Woon Sen', price=15.5), Restaurant(name='Nonna', cuisine='Italian', phone='355-4433', dish='Stracotto', price=25.5), Restaurant(name='Thai Dishes', cuisine='Thai', phone='334-4433', dish='Mee Krob', price=12.5)]\n"
     ]
    }
   ],
   "source": [
    "from collections import namedtuple     # If this line is in your file already, you don't need it again <br>\n",
    "Restaurant = namedtuple('Restaurant', 'name cuisine phone dish price') \n",
    "# Restaurant attributes: name, kind of food served, phone number, best dish, price of that dish\n",
    "RC = [\n",
    "    Restaurant(\"Thai Dishes\", \"Thai\", \"334-4433\", \"Mee Krob\", 12.50),\n",
    "    Restaurant(\"Nobu\", \"Japanese\", \"335-4433\", \"Natto Temaki\", 5.50),\n",
    "    Restaurant(\"Nonna\", \"Italian\", \"355-4433\", \"Stracotto\", 25.50),\n",
    "    Restaurant(\"Jitlada\", \"Thai\", \"324-4433\", \"Paht Woon Sen\", 15.50),\n",
    "    Restaurant(\"Nola\", \"New Orleans\", \"336-4433\", \"Jambalaya\", 5.50),\n",
    "    Restaurant(\"Noma\", \"Modern Danish\", \"337-4433\", \"Birch Sap\", 35.50),\n",
    "    Restaurant(\"Addis Ababa\", \"Ethiopian\", \"337-4453\", \"Yesiga Tibs\", 10.50) ]\n",
    "RC.sort()\n",
    "newRC = []\n",
    "newRC.append(RC[0])\n",
    "newRC.append(RC[1])\n",
    "newRC.append(RC[-2])\n",
    "newRC.append(RC[-1])\n",
    "print(newRC)"
   ]
  },
  {
   "cell_type": "markdown",
   "metadata": {},
   "source": []
  },
  {
   "cell_type": "code",
   "execution_count": null,
   "metadata": {},
   "outputs": [],
   "source": []
  },
  {
   "cell_type": "code",
   "execution_count": null,
   "metadata": {},
   "outputs": [],
   "source": []
  }
 ],
 "metadata": {
  "kernelspec": {
   "display_name": "Python 3.6",
   "language": "python",
   "name": "python36"
  },
  "language_info": {
   "codemirror_mode": {
    "name": "ipython",
    "version": 3
   },
   "file_extension": ".py",
   "mimetype": "text/x-python",
   "name": "python",
   "nbconvert_exporter": "python",
   "pygments_lexer": "ipython3",
   "version": "3.6.3"
  }
 },
 "nbformat": 4,
 "nbformat_minor": 2
}

{
 "cells": [
  {
   "cell_type": "markdown",
   "metadata": {
    "collapsed": true
   },
   "source": [
    "*** In your  lab1.py file, you can type print statements that contain expressions; when you run the code in the file (choose \"Run Module\" from the Run menu or press the F5 key), the results are printed in the Python Shell window. Try it: Type print('Hello') in your lab1.py file and then run it. You should see Hello  in the shell window. ****\n",
    "\n",
    "\n"
   ]
  },
  {
   "cell_type": "code",
   "execution_count": 1,
   "metadata": {},
   "outputs": [
    {
     "name": "stdout",
     "output_type": "stream",
     "text": [
      "Hello\n"
     ]
    }
   ],
   "source": [
    "print(\"Hello\""
   ]
  },
  {
   "cell_type": "markdown",
   "metadata": {},
   "source": [
    "### A. Write Python expressions that correspond to each of the following statements:\n",
    "\n",
    "1. The sum of the five even integers from 2 to 10. \n",
    "2. The average of this group of test scores: 75%, 83.5%, 61%, 43% \n",
    "3. 2 to the 10th power\n",
    "4. A moving anteater has a mass of 50 kg and a velocity (speed) of 15 meters per second. Compute its kinetic energy using this formula: 1/2 times the mass times the velocity squared."
   ]
  },
  {
   "cell_type": "code",
   "execution_count": 11,
   "metadata": {},
   "outputs": [
    {
     "name": "stdout",
     "output_type": "stream",
     "text": [
      "Sum of the five even integer from 2 to 10: 30\n"
     ]
    }
   ],
   "source": [
    "total = 0\n",
    "for i in range (2,12,2):\n",
    "    total += i\n",
    "\n",
    "print(\"Sum of the five even integer from 2 to 10:\", total)"
   ]
  },
  {
   "cell_type": "code",
   "execution_count": 26,
   "metadata": {},
   "outputs": [
    {
     "name": "stdout",
     "output_type": "stream",
     "text": [
      "The average of this group of test scores: 75%, 83.5%, 61%, 43%: 65.62%\n"
     ]
    }
   ],
   "source": [
    "print(\"The average of this group of test scores: 75%, 83.5%, 61%, 43%:\", format((75+83.5+61+43)/400, \".2%\" ))"
   ]
  },
  {
   "cell_type": "code",
   "execution_count": 27,
   "metadata": {},
   "outputs": [
    {
     "name": "stdout",
     "output_type": "stream",
     "text": [
      "2 to the 10th power:  1024\n"
     ]
    }
   ],
   "source": [
    "print(\"2 to the 10th power: \", 2**10)"
   ]
  },
  {
   "cell_type": "code",
   "execution_count": 28,
   "metadata": {},
   "outputs": [
    {
     "name": "stdout",
     "output_type": "stream",
     "text": [
      "The kinetic energy is 5625.0\n"
     ]
    }
   ],
   "source": [
    "mass = 50\n",
    "speed = 15\n",
    "KE = 0.5 * mass * (speed**2)\n",
    "print(\"The kinetic energy is\", KE)"
   ]
  },
  {
   "cell_type": "markdown",
   "metadata": {},
   "source": [
    "### B. We're designing a game where players can create castle defenses against invaders. Each side of the castle consists of a sequence of wall parts and cannons: We represent a six-segment side with no cannons as 'wwwwww'; a five-segment side with one cannon in the middle would be 'wwcww'.\n",
    "Define these two variables: <br>\n",
    "\n",
    "wall = 'w'<br>\n",
    "cannon = 'c'<br>\n",
    "Using the variables wall and cannon, the string operators + and *, and parentheses, write string expressions that evaluate to:<br>\n",
    "\n",
    " \"wc\"<br> \n",
    " \"wcw\" <br>\n",
    " \"wwwcwww\" <br>\n",
    " \"wccwccwccwcc\"<br> \n",
    " \"wwwcwwwcwwwcwwwcw\"<br> \n",
    " \"wwwwcwwwwcwwwwcwwwwcwwww\"<br> \n",
    " \n",
    "\u0001Try making your string expressions as compact as you can."
   ]
  },
  {
   "cell_type": "code",
   "execution_count": 34,
   "metadata": {},
   "outputs": [
    {
     "name": "stdout",
     "output_type": "stream",
     "text": [
      "wc\n",
      "wcw\n",
      "wwwcwww\n",
      "wccwccwccwcc\n",
      "wwwcwwwcwwwcwwwcw\n",
      "wwwwcwwwwcwwwwcwwwwcwwww\n"
     ]
    }
   ],
   "source": [
    "wall = 'w'\n",
    "cannon = 'c'\n",
    "\n",
    "print(wall+cannon)\n",
    "print(wall+cannon+wall)\n",
    "print(wall*3+cannon+wall*3)\n",
    "print((wall+cannon*2)*4)\n",
    "print((wall*3+cannon)*4 + wall)\n",
    "print((wall*4+cannon)*4 + wall*4)"
   ]
  },
  {
   "cell_type": "markdown",
   "metadata": {},
   "source": [
    "### C. Scores on a quiz range from 0 to 5. Suppose we have the following assignment statement (which represents the quiz scores of all the students in a class):\n",
    "\n",
    "test_scores = \"4325220523455023\" <br>\n",
    "Using the variable test_scores and the indexing operators, write four separate expressions whose values are each of the following: quiz score for the 1st student, the 5th student, the 10th student, and the 16th student. Remember zero-based indexing."
   ]
  },
  {
   "cell_type": "code",
   "execution_count": 40,
   "metadata": {},
   "outputs": [
    {
     "name": "stdout",
     "output_type": "stream",
     "text": [
      "Test score for 1st student: 4\n",
      "Test score for 5th student: 2\n",
      "Test score for 10th student: 3\n",
      "Test score for 16th student: 3\n"
     ]
    }
   ],
   "source": [
    "test_scores = \"4325220523455023\"\n",
    "print(\"Test score for 1st student:\", test_scores[0])\n",
    "print(\"Test score for 5th student:\", test_scores[4])\n",
    "print(\"Test score for 10th student:\", test_scores[9])\n",
    "print(\"Test score for 16th student:\", test_scores[15])\n"
   ]
  },
  {
   "cell_type": "markdown",
   "metadata": {},
   "source": [
    "### *** D. Suppose we have the following assignment statement: ***\n",
    "\n",
    " s = \"anteater\" <br>\n",
    "For each of the following, write a boolean expression that represents the English statement:<br>\n",
    "\n",
    "The first character of string s is \"a\"<br>\n",
    "The last character of string s is \"r\"<br>\n",
    "The fourth character of string s is \"x\"<br>\n",
    "The first three characters of string s match the string \"zot\"<br>"
   ]
  },
  {
   "cell_type": "code",
   "execution_count": 43,
   "metadata": {},
   "outputs": [
    {
     "name": "stdout",
     "output_type": "stream",
     "text": [
      "The first character of string s is: a\n",
      "The last character of string s is: r\n",
      "The fourth character of string s is: e\n",
      "The first three character of string s is: ant\n"
     ]
    }
   ],
   "source": [
    "s = \"anteater\"\n",
    "print(\"The first character of string s is:\", s[0])\n",
    "print(\"The last character of string s is:\", s[-1])\n",
    "print(\"The fourth character of string s is:\", s[3])\n",
    "print(\"The first three character of string s is:\", s[:3])"
   ]
  },
  {
   "cell_type": "markdown",
   "metadata": {},
   "source": [
    "### E. Write Python assignment statements that correspond to each of the following:\n",
    "\n",
    "Assign 3.14159 to variable pi <br>\n",
    "Assign the values \"Toyota\", \"Camry\", and 2014 to the variables make, model, and year<br>\n",
    "Assign a list containing strings \"Computer Science\", \"Informatics\", and \"Computer Game Science\" to the variable \u0001ICS_majors <br>\n",
    "Assign the variable a to be the average of the odd numbers from 3 to 9.<br>"
   ]
  },
  {
   "cell_type": "code",
   "execution_count": 46,
   "metadata": {},
   "outputs": [],
   "source": [
    "pi = 3.14159\n",
    "make, model, year = \"Toyota\", \"Camry\", 2014\n",
    "ICS_Majors = [\"Computer Science\", \"Informatics\", \"Computer Game Science\"]\n",
    "average = (3+5+7+9)/4"
   ]
  },
  {
   "cell_type": "markdown",
   "metadata": {},
   "source": [
    "### F. Write boolean expressions corresponding to each of the following statements:\n",
    "\n",
    "20 plus 35 is greater than 2 to the power of 4 <br>\n",
    "The string \"hello\" is not equivalent to the string \"goodbye\"<br>\n",
    "The remainder when 10 is divided by 3 is less or equal to 1.<br>\n",
    "The list [\"apple\", \"orange\", \"banana\", \"mango\"] contains 5 elements.<br>\n",
    "The number 63 is an even number.<br>"
   ]
  },
  {
   "cell_type": "code",
   "execution_count": 47,
   "metadata": {},
   "outputs": [
    {
     "name": "stdout",
     "output_type": "stream",
     "text": [
      "True\n"
     ]
    }
   ],
   "source": [
    "print((25+35)>(2**4))"
   ]
  },
  {
   "cell_type": "code",
   "execution_count": 48,
   "metadata": {},
   "outputs": [
    {
     "name": "stdout",
     "output_type": "stream",
     "text": [
      "True\n"
     ]
    }
   ],
   "source": [
    "print(\"Hello\" != \"Goodbye\")"
   ]
  },
  {
   "cell_type": "code",
   "execution_count": 49,
   "metadata": {},
   "outputs": [
    {
     "name": "stdout",
     "output_type": "stream",
     "text": [
      "True\n"
     ]
    }
   ],
   "source": [
    "print(10%3 <= 1)"
   ]
  },
  {
   "cell_type": "code",
   "execution_count": 50,
   "metadata": {},
   "outputs": [
    {
     "name": "stdout",
     "output_type": "stream",
     "text": [
      "False\n"
     ]
    }
   ],
   "source": [
    "print(len([\"apple\", \"orange\", \"banana\", \"mango\"]) == 5)"
   ]
  },
  {
   "cell_type": "code",
   "execution_count": 51,
   "metadata": {},
   "outputs": [
    {
     "name": "stdout",
     "output_type": "stream",
     "text": [
      "False\n"
     ]
    }
   ],
   "source": [
    "print(63%2 == 0)"
   ]
  },
  {
   "cell_type": "markdown",
   "metadata": {},
   "source": [
    "### G. Start with the following assignment statement:  <br>\n",
    " s = \"abcdefghijklmnopqrstuvwxyz\" <br>\n",
    "\n",
    "Using only string concatenation and the indexing operator on the string s, write Python expressions that result in the following:<br>\n",
    "\n",
    "\"dog\"<br>\n",
    "\"tv\"<br>\n",
    "\"ics\"<br>\n",
    "\"uci\"<br>"
   ]
  },
  {
   "cell_type": "code",
   "execution_count": 52,
   "metadata": {},
   "outputs": [
    {
     "name": "stdout",
     "output_type": "stream",
     "text": [
      "dog\n"
     ]
    }
   ],
   "source": [
    "s = \"abcdefghijklmnopqrstuvwxyz\" \n",
    "print(s[3] + s[14] + s[6])"
   ]
  },
  {
   "cell_type": "code",
   "execution_count": 53,
   "metadata": {},
   "outputs": [
    {
     "name": "stdout",
     "output_type": "stream",
     "text": [
      "tv\n"
     ]
    }
   ],
   "source": [
    "s = \"abcdefghijklmnopqrstuvwxyz\" \n",
    "print(s[19] + s[21])"
   ]
  },
  {
   "cell_type": "code",
   "execution_count": 54,
   "metadata": {},
   "outputs": [
    {
     "name": "stdout",
     "output_type": "stream",
     "text": [
      "ics\n"
     ]
    }
   ],
   "source": [
    "s = \"abcdefghijklmnopqrstuvwxyz\" \n",
    "print(s[8] + s[2] + s[18])"
   ]
  },
  {
   "cell_type": "code",
   "execution_count": 55,
   "metadata": {},
   "outputs": [
    {
     "name": "stdout",
     "output_type": "stream",
     "text": [
      "uci\n"
     ]
    }
   ],
   "source": [
    "s = \"abcdefghijklmnopqrstuvwxyz\" \n",
    "print(s[20] + s[2] + s[8])"
   ]
  },
  {
   "cell_type": "code",
   "execution_count": null,
   "metadata": {},
   "outputs": [],
   "source": []
  }
 ],
 "metadata": {
  "kernelspec": {
   "display_name": "Python 3.6",
   "language": "python",
   "name": "python36"
  },
  "language_info": {
   "codemirror_mode": {
    "name": "ipython",
    "version": 3
   },
   "file_extension": ".py",
   "mimetype": "text/x-python",
   "name": "python",
   "nbconvert_exporter": "python",
   "pygments_lexer": "ipython3",
   "version": "3.6.3"
  }
 },
 "nbformat": 4,
 "nbformat_minor": 2
}
